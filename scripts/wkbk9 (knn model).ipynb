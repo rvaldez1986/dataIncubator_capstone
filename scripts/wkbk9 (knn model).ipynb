{
 "cells": [
  {
   "cell_type": "code",
   "execution_count": 1,
   "metadata": {},
   "outputs": [],
   "source": [
    "import pandas as pd\n",
    "import numpy as np"
   ]
  },
  {
   "cell_type": "markdown",
   "metadata": {},
   "source": [
    "# Title of the wkbk\n",
    "\n",
    "## State data\n",
    "\n",
    "Read the data"
   ]
  },
  {
   "cell_type": "code",
   "execution_count": 2,
   "metadata": {},
   "outputs": [
    {
     "data": {
      "text/html": [
       "<div>\n",
       "<style scoped>\n",
       "    .dataframe tbody tr th:only-of-type {\n",
       "        vertical-align: middle;\n",
       "    }\n",
       "\n",
       "    .dataframe tbody tr th {\n",
       "        vertical-align: top;\n",
       "    }\n",
       "\n",
       "    .dataframe thead th {\n",
       "        text-align: right;\n",
       "    }\n",
       "</style>\n",
       "<table border=\"1\" class=\"dataframe\">\n",
       "  <thead>\n",
       "    <tr style=\"text-align: right;\">\n",
       "      <th></th>\n",
       "      <th>N</th>\n",
       "      <th>State_Name</th>\n",
       "      <th>Code</th>\n",
       "      <th>GDP_PC</th>\n",
       "      <th>gini</th>\n",
       "      <th>cost_living</th>\n",
       "      <th>hdi</th>\n",
       "    </tr>\n",
       "  </thead>\n",
       "  <tbody>\n",
       "    <tr>\n",
       "      <th>0</th>\n",
       "      <td>1</td>\n",
       "      <td>Alabama</td>\n",
       "      <td>AL</td>\n",
       "      <td>45219</td>\n",
       "      <td>0.4847</td>\n",
       "      <td>89.87</td>\n",
       "      <td>4.04</td>\n",
       "    </tr>\n",
       "    <tr>\n",
       "      <th>1</th>\n",
       "      <td>2</td>\n",
       "      <td>Alaska</td>\n",
       "      <td>AK</td>\n",
       "      <td>73205</td>\n",
       "      <td>0.4081</td>\n",
       "      <td>122.88</td>\n",
       "      <td>5.06</td>\n",
       "    </tr>\n",
       "    <tr>\n",
       "      <th>2</th>\n",
       "      <td>3</td>\n",
       "      <td>Arizona</td>\n",
       "      <td>AZ</td>\n",
       "      <td>48055</td>\n",
       "      <td>0.4713</td>\n",
       "      <td>97.66</td>\n",
       "      <td>4.89</td>\n",
       "    </tr>\n",
       "    <tr>\n",
       "      <th>3</th>\n",
       "      <td>4</td>\n",
       "      <td>Arkansas</td>\n",
       "      <td>AR</td>\n",
       "      <td>42454</td>\n",
       "      <td>0.4719</td>\n",
       "      <td>89.17</td>\n",
       "      <td>3.91</td>\n",
       "    </tr>\n",
       "  </tbody>\n",
       "</table>\n",
       "</div>"
      ],
      "text/plain": [
       "   N State_Name Code  GDP_PC    gini  cost_living   hdi\n",
       "0  1    Alabama   AL   45219  0.4847        89.87  4.04\n",
       "1  2     Alaska   AK   73205  0.4081       122.88  5.06\n",
       "2  3    Arizona   AZ   48055  0.4713        97.66  4.89\n",
       "3  4   Arkansas   AR   42454  0.4719        89.17  3.91"
      ]
     },
     "execution_count": 2,
     "metadata": {},
     "output_type": "execute_result"
    }
   ],
   "source": [
    "df_state = pd.read_csv('../data/USA/State/state_data.csv')\n",
    "df_state.head(4)"
   ]
  },
  {
   "cell_type": "markdown",
   "metadata": {},
   "source": [
    "We scale our observations: "
   ]
  },
  {
   "cell_type": "code",
   "execution_count": 3,
   "metadata": {},
   "outputs": [],
   "source": [
    "from sklearn.preprocessing import StandardScaler\n",
    "import warnings\n",
    "from sklearn.exceptions import DataConversionWarning\n",
    "warnings.filterwarnings(action='ignore', category=DataConversionWarning)\n",
    "scaler = StandardScaler()"
   ]
  },
  {
   "cell_type": "code",
   "execution_count": 4,
   "metadata": {},
   "outputs": [],
   "source": [
    "states_data = pd.DataFrame(scaler.fit_transform(df_state[['GDP_PC','gini','cost_living','hdi']]), \n",
    "                             columns=['GDP_PC','gini','cost_living','hdi'])\n",
    "states_data = pd.concat([df_state[['Code']], states_data], axis=1)"
   ]
  },
  {
   "cell_type": "code",
   "execution_count": 5,
   "metadata": {},
   "outputs": [
    {
     "data": {
      "text/html": [
       "<div>\n",
       "<style scoped>\n",
       "    .dataframe tbody tr th:only-of-type {\n",
       "        vertical-align: middle;\n",
       "    }\n",
       "\n",
       "    .dataframe tbody tr th {\n",
       "        vertical-align: top;\n",
       "    }\n",
       "\n",
       "    .dataframe thead th {\n",
       "        text-align: right;\n",
       "    }\n",
       "</style>\n",
       "<table border=\"1\" class=\"dataframe\">\n",
       "  <thead>\n",
       "    <tr style=\"text-align: right;\">\n",
       "      <th></th>\n",
       "      <th>Code</th>\n",
       "      <th>GDP_PC</th>\n",
       "      <th>gini</th>\n",
       "      <th>cost_living</th>\n",
       "      <th>hdi</th>\n",
       "    </tr>\n",
       "  </thead>\n",
       "  <tbody>\n",
       "    <tr>\n",
       "      <th>0</th>\n",
       "      <td>AL</td>\n",
       "      <td>-0.725897</td>\n",
       "      <td>0.798117</td>\n",
       "      <td>-0.779450</td>\n",
       "      <td>-1.502166</td>\n",
       "    </tr>\n",
       "    <tr>\n",
       "      <th>1</th>\n",
       "      <td>AK</td>\n",
       "      <td>0.522078</td>\n",
       "      <td>-2.500225</td>\n",
       "      <td>0.769120</td>\n",
       "      <td>0.164700</td>\n",
       "    </tr>\n",
       "    <tr>\n",
       "      <th>2</th>\n",
       "      <td>AZ</td>\n",
       "      <td>-0.599432</td>\n",
       "      <td>0.221122</td>\n",
       "      <td>-0.414004</td>\n",
       "      <td>-0.113111</td>\n",
       "    </tr>\n",
       "    <tr>\n",
       "      <th>3</th>\n",
       "      <td>AR</td>\n",
       "      <td>-0.849196</td>\n",
       "      <td>0.246958</td>\n",
       "      <td>-0.812289</td>\n",
       "      <td>-1.714610</td>\n",
       "    </tr>\n",
       "    <tr>\n",
       "      <th>4</th>\n",
       "      <td>CA</td>\n",
       "      <td>0.566671</td>\n",
       "      <td>1.022025</td>\n",
       "      <td>1.972417</td>\n",
       "      <td>0.720322</td>\n",
       "    </tr>\n",
       "  </tbody>\n",
       "</table>\n",
       "</div>"
      ],
      "text/plain": [
       "  Code    GDP_PC      gini  cost_living       hdi\n",
       "0   AL -0.725897  0.798117    -0.779450 -1.502166\n",
       "1   AK  0.522078 -2.500225     0.769120  0.164700\n",
       "2   AZ -0.599432  0.221122    -0.414004 -0.113111\n",
       "3   AR -0.849196  0.246958    -0.812289 -1.714610\n",
       "4   CA  0.566671  1.022025     1.972417  0.720322"
      ]
     },
     "execution_count": 5,
     "metadata": {},
     "output_type": "execute_result"
    }
   ],
   "source": [
    "states_data.head()"
   ]
  },
  {
   "cell_type": "markdown",
   "metadata": {},
   "source": [
    "I want a function that given a state s and a number n and a df X, returns n similar states:"
   ]
  },
  {
   "cell_type": "code",
   "execution_count": 6,
   "metadata": {},
   "outputs": [],
   "source": [
    "from scipy.spatial import distance\n",
    "\n",
    "def GaussianKernel(v1, v2, sigma):\n",
    "    l2norm = distance.euclidean(v1[1:], v2[1:])\n",
    "    return np.exp(-l2norm**2/(2.*sigma**2))\n",
    "\n",
    "def sim_states(s, n, X):    \n",
    "    x = X[X.Code == s]\n",
    "    X2 = X[X.Code != s].copy()\n",
    "    X2['dist'] = X2.apply(GaussianKernel, args=(x.iloc[0], 1), axis=1)\n",
    "    X2 = X2.sort_values(by=['dist'], ascending=False)   \n",
    "    return list(X2.Code[:n])\n",
    "    "
   ]
  },
  {
   "cell_type": "code",
   "execution_count": 7,
   "metadata": {},
   "outputs": [
    {
     "data": {
      "text/plain": [
       "['CA', 'CT', 'MA', 'NJ']"
      ]
     },
     "execution_count": 7,
     "metadata": {},
     "output_type": "execute_result"
    }
   ],
   "source": [
    "sim_states('NY', 4, states_data)"
   ]
  },
  {
   "cell_type": "code",
   "execution_count": null,
   "metadata": {},
   "outputs": [],
   "source": []
  },
  {
   "cell_type": "markdown",
   "metadata": {},
   "source": [
    "## State Model\n",
    "\n",
    "Read the data"
   ]
  },
  {
   "cell_type": "code",
   "execution_count": 8,
   "metadata": {},
   "outputs": [
    {
     "ename": "AttributeError",
     "evalue": "'DataFrame' object has no attribute 'loan_condition'",
     "output_type": "error",
     "traceback": [
      "\u001b[1;31m---------------------------------------------------------------------------\u001b[0m",
      "\u001b[1;31mAttributeError\u001b[0m                            Traceback (most recent call last)",
      "\u001b[1;32m<ipython-input-8-e75462a355f2>\u001b[0m in \u001b[0;36m<module>\u001b[1;34m\u001b[0m\n\u001b[0;32m      1\u001b[0m \u001b[0mX\u001b[0m \u001b[1;33m=\u001b[0m \u001b[0mpd\u001b[0m\u001b[1;33m.\u001b[0m\u001b[0mread_csv\u001b[0m\u001b[1;33m(\u001b[0m\u001b[1;34m'../data/USA/LC/X_train.csv'\u001b[0m\u001b[1;33m)\u001b[0m\u001b[1;33m\u001b[0m\u001b[0m\n\u001b[0;32m      2\u001b[0m \u001b[0my\u001b[0m \u001b[1;33m=\u001b[0m \u001b[0mpd\u001b[0m\u001b[1;33m.\u001b[0m\u001b[0mread_csv\u001b[0m\u001b[1;33m(\u001b[0m\u001b[1;34m'../data/USA/LC/y_train.csv'\u001b[0m\u001b[1;33m)\u001b[0m\u001b[1;33m\u001b[0m\u001b[0m\n\u001b[1;32m----> 3\u001b[1;33m \u001b[0my\u001b[0m \u001b[1;33m=\u001b[0m \u001b[0my\u001b[0m\u001b[1;33m.\u001b[0m\u001b[0mloan_condition\u001b[0m  \u001b[1;31m#as series\u001b[0m\u001b[1;33m\u001b[0m\u001b[0m\n\u001b[0m",
      "\u001b[1;32mc:\\users\\rober\\appdata\\local\\programs\\python\\python36\\lib\\site-packages\\pandas\\core\\generic.py\u001b[0m in \u001b[0;36m__getattr__\u001b[1;34m(self, name)\u001b[0m\n\u001b[0;32m   5065\u001b[0m             \u001b[1;32mif\u001b[0m \u001b[0mself\u001b[0m\u001b[1;33m.\u001b[0m\u001b[0m_info_axis\u001b[0m\u001b[1;33m.\u001b[0m\u001b[0m_can_hold_identifiers_and_holds_name\u001b[0m\u001b[1;33m(\u001b[0m\u001b[0mname\u001b[0m\u001b[1;33m)\u001b[0m\u001b[1;33m:\u001b[0m\u001b[1;33m\u001b[0m\u001b[0m\n\u001b[0;32m   5066\u001b[0m                 \u001b[1;32mreturn\u001b[0m \u001b[0mself\u001b[0m\u001b[1;33m[\u001b[0m\u001b[0mname\u001b[0m\u001b[1;33m]\u001b[0m\u001b[1;33m\u001b[0m\u001b[0m\n\u001b[1;32m-> 5067\u001b[1;33m             \u001b[1;32mreturn\u001b[0m \u001b[0mobject\u001b[0m\u001b[1;33m.\u001b[0m\u001b[0m__getattribute__\u001b[0m\u001b[1;33m(\u001b[0m\u001b[0mself\u001b[0m\u001b[1;33m,\u001b[0m \u001b[0mname\u001b[0m\u001b[1;33m)\u001b[0m\u001b[1;33m\u001b[0m\u001b[0m\n\u001b[0m\u001b[0;32m   5068\u001b[0m \u001b[1;33m\u001b[0m\u001b[0m\n\u001b[0;32m   5069\u001b[0m     \u001b[1;32mdef\u001b[0m \u001b[0m__setattr__\u001b[0m\u001b[1;33m(\u001b[0m\u001b[0mself\u001b[0m\u001b[1;33m,\u001b[0m \u001b[0mname\u001b[0m\u001b[1;33m,\u001b[0m \u001b[0mvalue\u001b[0m\u001b[1;33m)\u001b[0m\u001b[1;33m:\u001b[0m\u001b[1;33m\u001b[0m\u001b[0m\n",
      "\u001b[1;31mAttributeError\u001b[0m: 'DataFrame' object has no attribute 'loan_condition'"
     ]
    }
   ],
   "source": [
    "X = pd.read_csv('../data/USA/LC/X_train.csv')\n",
    "y = pd.read_csv('../data/USA/LC/y_train.csv')\n",
    "y = y.loan_condition  #as series"
   ]
  },
  {
   "cell_type": "markdown",
   "metadata": {},
   "source": [
    "### Model that uses no context\n",
    "\n",
    "For each state use data from possible states (the bigest ones) and find neighbors among them. Use them (and not the ones from that specific state to predict.\n",
    "\n",
    "The model is called knnEstimator1:"
   ]
  },
  {
   "cell_type": "code",
   "execution_count": 9,
   "metadata": {},
   "outputs": [
    {
     "ename": "ImportError",
     "evalue": "cannot import name 'ScalerEncoderTransformer'",
     "output_type": "error",
     "traceback": [
      "\u001b[1;31m---------------------------------------------------------------------------\u001b[0m",
      "\u001b[1;31mImportError\u001b[0m                               Traceback (most recent call last)",
      "\u001b[1;32m<ipython-input-9-63eb0308b6ae>\u001b[0m in \u001b[0;36m<module>\u001b[1;34m\u001b[0m\n\u001b[0;32m      2\u001b[0m \u001b[1;32mfrom\u001b[0m \u001b[0msklearn\u001b[0m\u001b[1;33m.\u001b[0m\u001b[0mmetrics\u001b[0m \u001b[1;32mimport\u001b[0m \u001b[0mroc_auc_score\u001b[0m\u001b[1;33m\u001b[0m\u001b[0m\n\u001b[0;32m      3\u001b[0m \u001b[1;32mfrom\u001b[0m \u001b[0msklearn\u001b[0m \u001b[1;32mimport\u001b[0m \u001b[0mbase\u001b[0m\u001b[1;33m\u001b[0m\u001b[0m\n\u001b[1;32m----> 4\u001b[1;33m \u001b[1;32mfrom\u001b[0m \u001b[0mtransformers\u001b[0m \u001b[1;32mimport\u001b[0m \u001b[0mColumnSelectTransformer\u001b[0m\u001b[1;33m,\u001b[0m \u001b[0mScalerEncoderTransformer\u001b[0m\u001b[1;33m\u001b[0m\u001b[0m\n\u001b[0m\u001b[0;32m      5\u001b[0m \u001b[1;33m\u001b[0m\u001b[0m\n\u001b[0;32m      6\u001b[0m \u001b[1;32mclass\u001b[0m \u001b[0mknnEstimator2\u001b[0m\u001b[1;33m(\u001b[0m\u001b[0mbase\u001b[0m\u001b[1;33m.\u001b[0m\u001b[0mBaseEstimator\u001b[0m\u001b[1;33m,\u001b[0m \u001b[0mbase\u001b[0m\u001b[1;33m.\u001b[0m\u001b[0mRegressorMixin\u001b[0m\u001b[1;33m)\u001b[0m\u001b[1;33m:\u001b[0m\u001b[1;33m\u001b[0m\u001b[0m\n",
      "\u001b[1;31mImportError\u001b[0m: cannot import name 'ScalerEncoderTransformer'"
     ]
    }
   ],
   "source": [
    "from sklearn.neighbors import NearestNeighbors\n",
    "from sklearn.metrics import roc_auc_score\n",
    "from sklearn import base\n",
    "from transformers import ColumnSelectTransformer, ScalerEncoderTransformer\n",
    "\n",
    "class knnEstimator2(base.BaseEstimator, base.RegressorMixin):\n",
    "    \n",
    "    def __init__(self, n=10, n_states=3, states_data=None):\n",
    "        #n=n. neighbors, p_states=n. states used in find neigh\n",
    "        self.dKnn_ = {}\n",
    "        self.n = n\n",
    "        self.n_states = n_states \n",
    "        self.states_data = states_data\n",
    "\n",
    "    \n",
    "    def fit(self, X, y):  \n",
    "        # fit dictionary        \n",
    "        states = X.addr_state.unique()        \n",
    "        \n",
    "        for i,s in enumerate(states): \n",
    "            #we remove the state from where the sample is for prediction, we sample from remaining             \n",
    "                      \n",
    "            poss_states2 = sim_states(s, self.n_states, self.states_data)\n",
    "            \n",
    "            #we subset our data \n",
    "            X2 = X[X['addr_state'].isin(poss_states2)]     \n",
    "            y2 = y[y.index.isin(X2.index)]\n",
    "            \n",
    "            #we fit our dictionary\n",
    "            cst2 = ScalerEncoderTransformer()    \n",
    "            X3 = cst2.fit_transform(X2)  #X3 has indices reset\n",
    "            #nn does not use adress state\n",
    "            del X3['addr_state']\n",
    "            #we save our fitted model, our ys and our scaler in the dictionary for that state\n",
    "            self.dKnn_[s] = [NearestNeighbors(n_neighbors=self.n).fit(X3), y2.reset_index(drop=True), cst2]  \n",
    "            \n",
    "            #we print our progress\n",
    "            print('fit progress: {}%'.format(round(((i+1)/len(states))*100,2)))   \n",
    "            \n",
    "            \n",
    "    def pred_state(self, X, s):        \n",
    "        if s in self.dKnn_:\n",
    "            #we have fitted using this state            \n",
    "            X2 = self.dKnn_[s][2].transform(X)\n",
    "            del X2['addr_state']\n",
    "            distance, indices = self.dKnn_[s][0].kneighbors(X2)\n",
    "            y = self.dKnn_[s][1] \n",
    "            p = np.array([sum(y[i])/self.n for i in indices])                       \n",
    "            return p \n",
    "        else:\n",
    "            p = np.empty(X.shape[0])\n",
    "            p[:] = np.NaN\n",
    "            return p    \n",
    "        \n",
    "    \n",
    "    def predict(self, X):\n",
    "        X = X.sort_values(by=['addr_state'])\n",
    "        probs = np.array([])\n",
    "        states = X.addr_state.unique()        \n",
    "        for i,s in enumerate(states):\n",
    "            X2 = X[X.addr_state == s]           \n",
    "            probs = np.append(probs, self.pred_state(X2, s), axis=0)\n",
    "            #we print our progress\n",
    "            print('predict progress: {}%'.format(round(((i+1)/len(states))*100,2)))            \n",
    "        X['y_score'] = probs\n",
    "        X = X.sort_index()\n",
    "        return np.array(X.y_score)\n",
    "    \n",
    "    \n",
    "    def score(self, X, y):\n",
    "        y_scores = self.predict(X)\n",
    "        return roc_auc_score(y, y_scores)   "
   ]
  },
  {
   "cell_type": "code",
   "execution_count": null,
   "metadata": {},
   "outputs": [],
   "source": []
  },
  {
   "cell_type": "code",
   "execution_count": 10,
   "metadata": {},
   "outputs": [],
   "source": [
    "knnvars = ['annual_inc','emp_length','loan_amnt','home_ownership','term', 'year']"
   ]
  },
  {
   "cell_type": "code",
   "execution_count": 11,
   "metadata": {},
   "outputs": [],
   "source": [
    "cst = ColumnSelectTransformer(knnvars)\n",
    "X3 = cst.transform(X)"
   ]
  },
  {
   "cell_type": "code",
   "execution_count": 31,
   "metadata": {},
   "outputs": [
    {
     "name": "stdout",
     "output_type": "stream",
     "text": [
      "fit progress: 1.96%\n",
      "fit progress: 3.92%\n",
      "fit progress: 5.88%\n",
      "fit progress: 7.84%\n",
      "fit progress: 9.8%\n",
      "fit progress: 11.76%\n",
      "fit progress: 13.73%\n",
      "fit progress: 15.69%\n",
      "fit progress: 17.65%\n",
      "fit progress: 19.61%\n",
      "fit progress: 21.57%\n",
      "fit progress: 23.53%\n",
      "fit progress: 25.49%\n",
      "fit progress: 27.45%\n",
      "fit progress: 29.41%\n",
      "fit progress: 31.37%\n",
      "fit progress: 33.33%\n",
      "fit progress: 35.29%\n",
      "fit progress: 37.25%\n",
      "fit progress: 39.22%\n",
      "fit progress: 41.18%\n",
      "fit progress: 43.14%\n",
      "fit progress: 45.1%\n",
      "fit progress: 47.06%\n",
      "fit progress: 49.02%\n",
      "fit progress: 50.98%\n",
      "fit progress: 52.94%\n",
      "fit progress: 54.9%\n",
      "fit progress: 56.86%\n",
      "fit progress: 58.82%\n",
      "fit progress: 60.78%\n",
      "fit progress: 62.75%\n",
      "fit progress: 64.71%\n",
      "fit progress: 66.67%\n",
      "fit progress: 68.63%\n",
      "fit progress: 70.59%\n",
      "fit progress: 72.55%\n",
      "fit progress: 74.51%\n",
      "fit progress: 76.47%\n",
      "fit progress: 78.43%\n",
      "fit progress: 80.39%\n",
      "fit progress: 82.35%\n",
      "fit progress: 84.31%\n",
      "fit progress: 86.27%\n",
      "fit progress: 88.24%\n",
      "fit progress: 90.2%\n",
      "fit progress: 92.16%\n",
      "fit progress: 94.12%\n",
      "fit progress: 96.08%\n",
      "fit progress: 98.04%\n",
      "fit progress: 100.0%\n"
     ]
    }
   ],
   "source": [
    "knnE = knnEstimator2(200, 4, states_data)\n",
    "knnE.fit(X, y)"
   ]
  },
  {
   "cell_type": "code",
   "execution_count": 32,
   "metadata": {},
   "outputs": [],
   "source": [
    "X2=X[X.addr_state.isin(['ME','NM','KS','LA'])]\n",
    "y2 = y[y.index.isin(X2.index)]"
   ]
  },
  {
   "cell_type": "code",
   "execution_count": 33,
   "metadata": {},
   "outputs": [
    {
     "name": "stdout",
     "output_type": "stream",
     "text": [
      "predict progress: 25.0%\n",
      "predict progress: 50.0%\n",
      "predict progress: 75.0%\n",
      "predict progress: 100.0%\n"
     ]
    }
   ],
   "source": [
    "y_scores = knnE.predict(X2)"
   ]
  },
  {
   "cell_type": "code",
   "execution_count": 34,
   "metadata": {},
   "outputs": [],
   "source": [
    "y_target = np.array(y2)"
   ]
  },
  {
   "cell_type": "code",
   "execution_count": 35,
   "metadata": {},
   "outputs": [],
   "source": [
    "from sklearn.metrics import roc_curve, auc\n",
    "fpr, tpr, thresholds = roc_curve(y_target, y_scores, pos_label=1)\n",
    "roc_auc = auc(fpr, tpr)"
   ]
  },
  {
   "cell_type": "code",
   "execution_count": 36,
   "metadata": {},
   "outputs": [
    {
     "data": {
      "image/png": "[encoded data removed]",
      "text/plain": [
       "<Figure size 432x288 with 1 Axes>"
      ]
     },
     "metadata": {
      "needs_background": "light"
     },
     "output_type": "display_data"
    }
   ],
   "source": [
    "import matplotlib.pyplot as plt\n",
    "plt.figure()\n",
    "lw = 2\n",
    "plt.plot(fpr, tpr, color='darkorange',\n",
    "         lw=lw, label='ROC curve (area = %0.2f)' % roc_auc)\n",
    "plt.plot([0, 1], [0, 1], color='navy', lw=lw, linestyle='--')\n",
    "plt.xlim([0.0, 1.0])\n",
    "plt.ylim([0.0, 1.05])\n",
    "plt.xlabel('False Positive Rate')\n",
    "plt.ylabel('True Positive Rate')\n",
    "plt.title('Receiver operating characteristic example')\n",
    "plt.legend(loc=\"lower right\")\n",
    "plt.show()"
   ]
  },
  {
   "cell_type": "code",
   "execution_count": null,
   "metadata": {},
   "outputs": [],
   "source": []
  },
  {
   "cell_type": "code",
   "execution_count": null,
   "metadata": {},
   "outputs": [],
   "source": []
  }
 ],
 "metadata": {
  "kernelspec": {
   "display_name": "Python 3",
   "language": "python",
   "name": "python3"
  },
  "language_info": {
   "codemirror_mode": {
    "name": "ipython",
    "version": 3
   },
   "file_extension": ".py",
   "mimetype": "text/x-python",
   "name": "python",
   "nbconvert_exporter": "python",
   "pygments_lexer": "ipython3",
   "version": "3.6.6"
  }
 },
 "nbformat": 4,
 "nbformat_minor": 2
}
