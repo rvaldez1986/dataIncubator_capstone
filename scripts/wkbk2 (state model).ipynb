{
 "cells": [
  {
   "cell_type": "code",
   "execution_count": 1,
   "metadata": {},
   "outputs": [],
   "source": [
    "import pickle\n",
    "import pandas as pd\n",
    "import numpy as np\n",
    "import matplotlib.pyplot as plt\n",
    "from mpl_toolkits.mplot3d import Axes3D  # noqa: F401 unused import"
   ]
  },
  {
   "cell_type": "markdown",
   "metadata": {},
   "source": [
    "https://www.incharge.org/debt-relief/debt-statistics-state/"
   ]
  },
  {
   "cell_type": "code",
   "execution_count": 2,
   "metadata": {},
   "outputs": [
    {
     "data": {
      "text/html": [
       "<div>\n",
       "<style scoped>\n",
       "    .dataframe tbody tr th:only-of-type {\n",
       "        vertical-align: middle;\n",
       "    }\n",
       "\n",
       "    .dataframe tbody tr th {\n",
       "        vertical-align: top;\n",
       "    }\n",
       "\n",
       "    .dataframe thead th {\n",
       "        text-align: right;\n",
       "    }\n",
       "</style>\n",
       "<table border=\"1\" class=\"dataframe\">\n",
       "  <thead>\n",
       "    <tr style=\"text-align: right;\">\n",
       "      <th></th>\n",
       "      <th>N</th>\n",
       "      <th>State_Name</th>\n",
       "      <th>Code</th>\n",
       "      <th>GDP_PC</th>\n",
       "      <th>gini</th>\n",
       "      <th>cost_living</th>\n",
       "      <th>hdi</th>\n",
       "      <th>pbf</th>\n",
       "      <th>ccdebt</th>\n",
       "      <th>spi</th>\n",
       "      <th>unemp</th>\n",
       "    </tr>\n",
       "  </thead>\n",
       "  <tbody>\n",
       "    <tr>\n",
       "      <th>0</th>\n",
       "      <td>1</td>\n",
       "      <td>Alabama</td>\n",
       "      <td>AL</td>\n",
       "      <td>45219</td>\n",
       "      <td>0.4847</td>\n",
       "      <td>89.87</td>\n",
       "      <td>4.04</td>\n",
       "      <td>519</td>\n",
       "      <td>7105</td>\n",
       "      <td>33.60</td>\n",
       "      <td>3.9</td>\n",
       "    </tr>\n",
       "    <tr>\n",
       "      <th>1</th>\n",
       "      <td>2</td>\n",
       "      <td>Alaska</td>\n",
       "      <td>AK</td>\n",
       "      <td>73205</td>\n",
       "      <td>0.4081</td>\n",
       "      <td>122.88</td>\n",
       "      <td>5.06</td>\n",
       "      <td>56</td>\n",
       "      <td>13048</td>\n",
       "      <td>43.77</td>\n",
       "      <td>6.5</td>\n",
       "    </tr>\n",
       "    <tr>\n",
       "      <th>2</th>\n",
       "      <td>3</td>\n",
       "      <td>Arizona</td>\n",
       "      <td>AZ</td>\n",
       "      <td>48055</td>\n",
       "      <td>0.4713</td>\n",
       "      <td>97.66</td>\n",
       "      <td>4.89</td>\n",
       "      <td>305</td>\n",
       "      <td>7100</td>\n",
       "      <td>45.43</td>\n",
       "      <td>4.7</td>\n",
       "    </tr>\n",
       "    <tr>\n",
       "      <th>3</th>\n",
       "      <td>4</td>\n",
       "      <td>Arkansas</td>\n",
       "      <td>AR</td>\n",
       "      <td>42454</td>\n",
       "      <td>0.4719</td>\n",
       "      <td>89.17</td>\n",
       "      <td>3.91</td>\n",
       "      <td>374</td>\n",
       "      <td>6747</td>\n",
       "      <td>32.10</td>\n",
       "      <td>3.6</td>\n",
       "    </tr>\n",
       "  </tbody>\n",
       "</table>\n",
       "</div>"
      ],
      "text/plain": [
       "   N State_Name Code  GDP_PC    gini  cost_living   hdi  pbf  ccdebt    spi  \\\n",
       "0  1    Alabama   AL   45219  0.4847        89.87  4.04  519    7105  33.60   \n",
       "1  2     Alaska   AK   73205  0.4081       122.88  5.06   56   13048  43.77   \n",
       "2  3    Arizona   AZ   48055  0.4713        97.66  4.89  305    7100  45.43   \n",
       "3  4   Arkansas   AR   42454  0.4719        89.17  3.91  374    6747  32.10   \n",
       "\n",
       "   unemp  \n",
       "0    3.9  \n",
       "1    6.5  \n",
       "2    4.7  \n",
       "3    3.6  "
      ]
     },
     "execution_count": 2,
     "metadata": {},
     "output_type": "execute_result"
    }
   ],
   "source": [
    "df_state = pd.read_csv('../data/USA/State/state_data.csv')\n",
    "df_state.head(4)"
   ]
  },
  {
   "cell_type": "code",
   "execution_count": 3,
   "metadata": {},
   "outputs": [],
   "source": [
    "d_stc = {}\n",
    "for st in pickle.load(open( \"state_coef.pickle\", \"rb\" )):\n",
    "    d_stc[st[0]] = st[1]"
   ]
  },
  {
   "cell_type": "code",
   "execution_count": 4,
   "metadata": {},
   "outputs": [],
   "source": [
    "def f_class(x):\n",
    "    if x<0:\n",
    "        return -1\n",
    "    elif x>0:\n",
    "        return 1\n",
    "    return 0"
   ]
  },
  {
   "cell_type": "code",
   "execution_count": 5,
   "metadata": {},
   "outputs": [
    {
     "data": {
      "text/html": [
       "<div>\n",
       "<style scoped>\n",
       "    .dataframe tbody tr th:only-of-type {\n",
       "        vertical-align: middle;\n",
       "    }\n",
       "\n",
       "    .dataframe tbody tr th {\n",
       "        vertical-align: top;\n",
       "    }\n",
       "\n",
       "    .dataframe thead th {\n",
       "        text-align: right;\n",
       "    }\n",
       "</style>\n",
       "<table border=\"1\" class=\"dataframe\">\n",
       "  <thead>\n",
       "    <tr style=\"text-align: right;\">\n",
       "      <th></th>\n",
       "      <th>N</th>\n",
       "      <th>State_Name</th>\n",
       "      <th>Code</th>\n",
       "      <th>GDP_PC</th>\n",
       "      <th>gini</th>\n",
       "      <th>cost_living</th>\n",
       "      <th>hdi</th>\n",
       "      <th>pbf</th>\n",
       "      <th>ccdebt</th>\n",
       "      <th>spi</th>\n",
       "      <th>unemp</th>\n",
       "      <th>m_coefs</th>\n",
       "      <th>s_class</th>\n",
       "    </tr>\n",
       "  </thead>\n",
       "  <tbody>\n",
       "    <tr>\n",
       "      <th>0</th>\n",
       "      <td>1</td>\n",
       "      <td>Alabama</td>\n",
       "      <td>AL</td>\n",
       "      <td>45219</td>\n",
       "      <td>0.4847</td>\n",
       "      <td>89.87</td>\n",
       "      <td>4.04</td>\n",
       "      <td>519</td>\n",
       "      <td>7105</td>\n",
       "      <td>33.60</td>\n",
       "      <td>3.9</td>\n",
       "      <td>0.162021</td>\n",
       "      <td>1</td>\n",
       "    </tr>\n",
       "    <tr>\n",
       "      <th>1</th>\n",
       "      <td>2</td>\n",
       "      <td>Alaska</td>\n",
       "      <td>AK</td>\n",
       "      <td>73205</td>\n",
       "      <td>0.4081</td>\n",
       "      <td>122.88</td>\n",
       "      <td>5.06</td>\n",
       "      <td>56</td>\n",
       "      <td>13048</td>\n",
       "      <td>43.77</td>\n",
       "      <td>6.5</td>\n",
       "      <td>0.000000</td>\n",
       "      <td>0</td>\n",
       "    </tr>\n",
       "    <tr>\n",
       "      <th>2</th>\n",
       "      <td>3</td>\n",
       "      <td>Arizona</td>\n",
       "      <td>AZ</td>\n",
       "      <td>48055</td>\n",
       "      <td>0.4713</td>\n",
       "      <td>97.66</td>\n",
       "      <td>4.89</td>\n",
       "      <td>305</td>\n",
       "      <td>7100</td>\n",
       "      <td>45.43</td>\n",
       "      <td>4.7</td>\n",
       "      <td>0.000000</td>\n",
       "      <td>0</td>\n",
       "    </tr>\n",
       "    <tr>\n",
       "      <th>3</th>\n",
       "      <td>4</td>\n",
       "      <td>Arkansas</td>\n",
       "      <td>AR</td>\n",
       "      <td>42454</td>\n",
       "      <td>0.4719</td>\n",
       "      <td>89.17</td>\n",
       "      <td>3.91</td>\n",
       "      <td>374</td>\n",
       "      <td>6747</td>\n",
       "      <td>32.10</td>\n",
       "      <td>3.6</td>\n",
       "      <td>0.195082</td>\n",
       "      <td>1</td>\n",
       "    </tr>\n",
       "    <tr>\n",
       "      <th>4</th>\n",
       "      <td>5</td>\n",
       "      <td>California</td>\n",
       "      <td>CA</td>\n",
       "      <td>74205</td>\n",
       "      <td>0.4899</td>\n",
       "      <td>148.53</td>\n",
       "      <td>5.40</td>\n",
       "      <td>275</td>\n",
       "      <td>10496</td>\n",
       "      <td>45.53</td>\n",
       "      <td>4.3</td>\n",
       "      <td>-0.029822</td>\n",
       "      <td>-1</td>\n",
       "    </tr>\n",
       "  </tbody>\n",
       "</table>\n",
       "</div>"
      ],
      "text/plain": [
       "   N  State_Name Code  GDP_PC    gini  cost_living   hdi  pbf  ccdebt    spi  \\\n",
       "0  1     Alabama   AL   45219  0.4847        89.87  4.04  519    7105  33.60   \n",
       "1  2      Alaska   AK   73205  0.4081       122.88  5.06   56   13048  43.77   \n",
       "2  3     Arizona   AZ   48055  0.4713        97.66  4.89  305    7100  45.43   \n",
       "3  4    Arkansas   AR   42454  0.4719        89.17  3.91  374    6747  32.10   \n",
       "4  5  California   CA   74205  0.4899       148.53  5.40  275   10496  45.53   \n",
       "\n",
       "   unemp   m_coefs  s_class  \n",
       "0    3.9  0.162021        1  \n",
       "1    6.5  0.000000        0  \n",
       "2    4.7  0.000000        0  \n",
       "3    3.6  0.195082        1  \n",
       "4    4.3 -0.029822       -1  "
      ]
     },
     "execution_count": 5,
     "metadata": {},
     "output_type": "execute_result"
    }
   ],
   "source": [
    "lcoefs = []\n",
    "for c in df_state.Code:\n",
    "    lcoefs.append(d_stc[c])\n",
    "df_state['m_coefs'] = lcoefs \n",
    "df_state['s_class'] = df_state['m_coefs'].apply(f_class)\n",
    "\n",
    "df_state.head()"
   ]
  },
  {
   "cell_type": "code",
   "execution_count": 6,
   "metadata": {},
   "outputs": [
    {
     "data": {
      "text/html": [
       "<div>\n",
       "<style scoped>\n",
       "    .dataframe tbody tr th:only-of-type {\n",
       "        vertical-align: middle;\n",
       "    }\n",
       "\n",
       "    .dataframe tbody tr th {\n",
       "        vertical-align: top;\n",
       "    }\n",
       "\n",
       "    .dataframe thead th {\n",
       "        text-align: right;\n",
       "    }\n",
       "</style>\n",
       "<table border=\"1\" class=\"dataframe\">\n",
       "  <thead>\n",
       "    <tr style=\"text-align: right;\">\n",
       "      <th></th>\n",
       "      <th>GDP_PC</th>\n",
       "      <th>gini</th>\n",
       "      <th>cost_living</th>\n",
       "      <th>hdi</th>\n",
       "      <th>pbf</th>\n",
       "      <th>ccdebt</th>\n",
       "      <th>spi</th>\n",
       "      <th>unemp</th>\n",
       "      <th>m_coefs</th>\n",
       "    </tr>\n",
       "  </thead>\n",
       "  <tbody>\n",
       "    <tr>\n",
       "      <th>GDP_PC</th>\n",
       "      <td>1.000000</td>\n",
       "      <td>0.390454</td>\n",
       "      <td>0.568183</td>\n",
       "      <td>0.387166</td>\n",
       "      <td>-0.306691</td>\n",
       "      <td>0.201094</td>\n",
       "      <td>0.180761</td>\n",
       "      <td>0.280926</td>\n",
       "      <td>-0.252922</td>\n",
       "    </tr>\n",
       "    <tr>\n",
       "      <th>gini</th>\n",
       "      <td>0.390454</td>\n",
       "      <td>1.000000</td>\n",
       "      <td>0.183809</td>\n",
       "      <td>-0.065730</td>\n",
       "      <td>0.071348</td>\n",
       "      <td>-0.264001</td>\n",
       "      <td>-0.290851</td>\n",
       "      <td>0.378864</td>\n",
       "      <td>0.166559</td>\n",
       "    </tr>\n",
       "    <tr>\n",
       "      <th>cost_living</th>\n",
       "      <td>0.568183</td>\n",
       "      <td>0.183809</td>\n",
       "      <td>1.000000</td>\n",
       "      <td>0.560732</td>\n",
       "      <td>-0.372595</td>\n",
       "      <td>0.322857</td>\n",
       "      <td>0.312511</td>\n",
       "      <td>0.096921</td>\n",
       "      <td>-0.246070</td>\n",
       "    </tr>\n",
       "    <tr>\n",
       "      <th>hdi</th>\n",
       "      <td>0.387166</td>\n",
       "      <td>-0.065730</td>\n",
       "      <td>0.560732</td>\n",
       "      <td>1.000000</td>\n",
       "      <td>-0.314365</td>\n",
       "      <td>0.136870</td>\n",
       "      <td>0.802685</td>\n",
       "      <td>-0.155014</td>\n",
       "      <td>-0.381290</td>\n",
       "    </tr>\n",
       "    <tr>\n",
       "      <th>pbf</th>\n",
       "      <td>-0.306691</td>\n",
       "      <td>0.071348</td>\n",
       "      <td>-0.372595</td>\n",
       "      <td>-0.314365</td>\n",
       "      <td>1.000000</td>\n",
       "      <td>-0.181291</td>\n",
       "      <td>-0.263028</td>\n",
       "      <td>0.002495</td>\n",
       "      <td>0.131658</td>\n",
       "    </tr>\n",
       "    <tr>\n",
       "      <th>ccdebt</th>\n",
       "      <td>0.201094</td>\n",
       "      <td>-0.264001</td>\n",
       "      <td>0.322857</td>\n",
       "      <td>0.136870</td>\n",
       "      <td>-0.181291</td>\n",
       "      <td>1.000000</td>\n",
       "      <td>-0.057496</td>\n",
       "      <td>0.263717</td>\n",
       "      <td>-0.124424</td>\n",
       "    </tr>\n",
       "    <tr>\n",
       "      <th>spi</th>\n",
       "      <td>0.180761</td>\n",
       "      <td>-0.290851</td>\n",
       "      <td>0.312511</td>\n",
       "      <td>0.802685</td>\n",
       "      <td>-0.263028</td>\n",
       "      <td>-0.057496</td>\n",
       "      <td>1.000000</td>\n",
       "      <td>-0.486418</td>\n",
       "      <td>-0.464097</td>\n",
       "    </tr>\n",
       "    <tr>\n",
       "      <th>unemp</th>\n",
       "      <td>0.280926</td>\n",
       "      <td>0.378864</td>\n",
       "      <td>0.096921</td>\n",
       "      <td>-0.155014</td>\n",
       "      <td>0.002495</td>\n",
       "      <td>0.263717</td>\n",
       "      <td>-0.486418</td>\n",
       "      <td>1.000000</td>\n",
       "      <td>0.040608</td>\n",
       "    </tr>\n",
       "    <tr>\n",
       "      <th>m_coefs</th>\n",
       "      <td>-0.252922</td>\n",
       "      <td>0.166559</td>\n",
       "      <td>-0.246070</td>\n",
       "      <td>-0.381290</td>\n",
       "      <td>0.131658</td>\n",
       "      <td>-0.124424</td>\n",
       "      <td>-0.464097</td>\n",
       "      <td>0.040608</td>\n",
       "      <td>1.000000</td>\n",
       "    </tr>\n",
       "  </tbody>\n",
       "</table>\n",
       "</div>"
      ],
      "text/plain": [
       "               GDP_PC      gini  cost_living       hdi       pbf    ccdebt  \\\n",
       "GDP_PC       1.000000  0.390454     0.568183  0.387166 -0.306691  0.201094   \n",
       "gini         0.390454  1.000000     0.183809 -0.065730  0.071348 -0.264001   \n",
       "cost_living  0.568183  0.183809     1.000000  0.560732 -0.372595  0.322857   \n",
       "hdi          0.387166 -0.065730     0.560732  1.000000 -0.314365  0.136870   \n",
       "pbf         -0.306691  0.071348    -0.372595 -0.314365  1.000000 -0.181291   \n",
       "ccdebt       0.201094 -0.264001     0.322857  0.136870 -0.181291  1.000000   \n",
       "spi          0.180761 -0.290851     0.312511  0.802685 -0.263028 -0.057496   \n",
       "unemp        0.280926  0.378864     0.096921 -0.155014  0.002495  0.263717   \n",
       "m_coefs     -0.252922  0.166559    -0.246070 -0.381290  0.131658 -0.124424   \n",
       "\n",
       "                  spi     unemp   m_coefs  \n",
       "GDP_PC       0.180761  0.280926 -0.252922  \n",
       "gini        -0.290851  0.378864  0.166559  \n",
       "cost_living  0.312511  0.096921 -0.246070  \n",
       "hdi          0.802685 -0.155014 -0.381290  \n",
       "pbf         -0.263028  0.002495  0.131658  \n",
       "ccdebt      -0.057496  0.263717 -0.124424  \n",
       "spi          1.000000 -0.486418 -0.464097  \n",
       "unemp       -0.486418  1.000000  0.040608  \n",
       "m_coefs     -0.464097  0.040608  1.000000  "
      ]
     },
     "execution_count": 6,
     "metadata": {},
     "output_type": "execute_result"
    }
   ],
   "source": [
    "df_state[['GDP_PC','gini','cost_living','hdi','pbf','ccdebt','spi','unemp','m_coefs']].corr(method ='pearson') "
   ]
  },
  {
   "cell_type": "code",
   "execution_count": 7,
   "metadata": {},
   "outputs": [
    {
     "data": {
      "image/png": "[encoded data removed]",
      "text/plain": [
       "<Figure size 432x288 with 1 Axes>"
      ]
     },
     "metadata": {
      "needs_background": "light"
     },
     "output_type": "display_data"
    }
   ],
   "source": [
    "%matplotlib inline\n",
    "plt.scatter(df_state.GDP_PC, df_state.pbf, marker = 'o', c = df_state.s_class.map({0:'red', -1:'green',1:'blue'}),\n",
    "            s=150*(np.abs(df_state.m_coefs)+0.1))\n",
    "plt.show()"
   ]
  },
  {
   "cell_type": "code",
   "execution_count": null,
   "metadata": {},
   "outputs": [],
   "source": []
  },
  {
   "cell_type": "code",
   "execution_count": 8,
   "metadata": {},
   "outputs": [
    {
     "data": {
      "image/png": "[encoded data removed]",
      "text/plain": [
       "<Figure size 720x504 with 1 Axes>"
      ]
     },
     "metadata": {
      "needs_background": "light"
     },
     "output_type": "display_data"
    }
   ],
   "source": [
    "%matplotlib qt \n",
    "\n",
    "fig = plt.figure(figsize=(10, 7))\n",
    "ax = fig.add_subplot(111, projection='3d')\n",
    "\n",
    "ax.xaxis.pane.fill = False\n",
    "ax.yaxis.pane.fill = False\n",
    "ax.zaxis.pane.fill = False\n",
    "\n",
    "ax.xaxis.pane.set_edgecolor('w')\n",
    "ax.yaxis.pane.set_edgecolor('w')\n",
    "ax.zaxis.pane.set_edgecolor('w')\n",
    "\n",
    "xs = df_state.GDP_PC\n",
    "ys = df_state.cost_living\n",
    "zs = df_state.spi\n",
    "ax.scatter(xs, ys, zs, marker='o', c=df_state.s_class.map({0:'green', -1:'blue',1:'red'}),\n",
    "           s=250*(np.abs(df_state.m_coefs)+0.1))\n",
    "\n",
    "ax.set_xlabel('GDP per capita')\n",
    "ax.set_ylabel('Cost of Living')\n",
    "ax.set_zlabel('Social Progress index')\n",
    "\n",
    "plt.show()"
   ]
  },
  {
   "cell_type": "code",
   "execution_count": null,
   "metadata": {},
   "outputs": [],
   "source": []
  },
  {
   "cell_type": "code",
   "execution_count": 9,
   "metadata": {},
   "outputs": [
    {
     "data": {
      "text/plain": [
       "<matplotlib.axes._subplots.AxesSubplot at 0x2dd0b0830b8>"
      ]
     },
     "execution_count": 9,
     "metadata": {},
     "output_type": "execute_result"
    },
    {
     "data": {
      "image/png": "[encoded data removed]",
      "text/plain": [
       "<Figure size 432x288 with 1 Axes>"
      ]
     },
     "metadata": {
      "needs_background": "light"
     },
     "output_type": "display_data"
    }
   ],
   "source": [
    "%matplotlib inline\n",
    "df_state.m_coefs.hist()"
   ]
  },
  {
   "cell_type": "code",
   "execution_count": null,
   "metadata": {},
   "outputs": [],
   "source": []
  },
  {
   "cell_type": "code",
   "execution_count": 10,
   "metadata": {},
   "outputs": [],
   "source": [
    "X = df_state[['GDP_PC','gini','cost_living','hdi','pbf','ccdebt','spi','unemp']]\n",
    "y = df_state['m_coefs']"
   ]
  },
  {
   "cell_type": "code",
   "execution_count": 11,
   "metadata": {},
   "outputs": [],
   "source": [
    "from sklearn.model_selection import train_test_split\n",
    "X_train, X_test, y_train, y_test = train_test_split(X, y, test_size=0.20, random_state=45, shuffle=True)"
   ]
  },
  {
   "cell_type": "code",
   "execution_count": null,
   "metadata": {},
   "outputs": [],
   "source": []
  },
  {
   "cell_type": "code",
   "execution_count": null,
   "metadata": {},
   "outputs": [],
   "source": []
  },
  {
   "cell_type": "code",
   "execution_count": 12,
   "metadata": {},
   "outputs": [],
   "source": [
    "from sklearn.preprocessing import MinMaxScaler\n",
    "from sklearn.linear_model import Ridge\n",
    "from sklearn.pipeline import Pipeline\n",
    "from transformers import ColumnSelectTransformer\n",
    "from sklearn.preprocessing import PolynomialFeatures\n",
    "from sklearn.linear_model import Lasso\n",
    "\n",
    "\n",
    "#used_vars = ['GDP_PC','gini','cost_living','hdi','pbf','spi','unemp']\n",
    "used_vars = ['GDP_PC','cost_living','spi','unemp']  #second selection based on ridge\n",
    "\n",
    "cst = ColumnSelectTransformer(used_vars)\n",
    "poly = PolynomialFeatures(interaction_only=True,include_bias = False)\n",
    "sc = MinMaxScaler()\n",
    "#rdg = Ridge(alpha=1)\n",
    "clf = Lasso(alpha=0.002)\n",
    "\n",
    "pipe_rdg = Pipeline([('colsel', cst), ('scaler', sc), ('lasso', clf)])"
   ]
  },
  {
   "cell_type": "code",
   "execution_count": 13,
   "metadata": {},
   "outputs": [
    {
     "data": {
      "text/plain": [
       "Pipeline(memory=None,\n",
       "     steps=[('colsel', ColumnSelectTransformer(col_names=['GDP_PC', 'cost_living', 'spi', 'unemp'])), ('scaler', MinMaxScaler(copy=True, feature_range=(0, 1))), ('lasso', Lasso(alpha=0.002, copy_X=True, fit_intercept=True, max_iter=1000,\n",
       "   normalize=False, positive=False, precompute=False, random_state=None,\n",
       "   selection='cyclic', tol=0.0001, warm_start=False))])"
      ]
     },
     "execution_count": 13,
     "metadata": {},
     "output_type": "execute_result"
    }
   ],
   "source": [
    "pipe_rdg.fit(X_train, y_train)"
   ]
  },
  {
   "cell_type": "code",
   "execution_count": 14,
   "metadata": {},
   "outputs": [
    {
     "data": {
      "text/plain": [
       "array([-0.04209443, -0.00859046, -0.18452527, -0.046152  ])"
      ]
     },
     "execution_count": 14,
     "metadata": {},
     "output_type": "execute_result"
    }
   ],
   "source": [
    "pipe_rdg.named_steps['lasso'].coef_"
   ]
  },
  {
   "cell_type": "code",
   "execution_count": 15,
   "metadata": {},
   "outputs": [],
   "source": [
    "y_pred = pipe_rdg.predict(X_test)"
   ]
  },
  {
   "cell_type": "code",
   "execution_count": 16,
   "metadata": {},
   "outputs": [
    {
     "data": {
      "text/plain": [
       "0.013098127611671272"
      ]
     },
     "execution_count": 16,
     "metadata": {},
     "output_type": "execute_result"
    }
   ],
   "source": [
    "from sklearn.metrics import mean_squared_error\n",
    "mean_squared_error(y_test, y_pred)"
   ]
  },
  {
   "cell_type": "markdown",
   "metadata": {},
   "source": [
    "0.0005 : 0.013624 <br>\n",
    "0.0010 : 0.013407 <br>\n",
    "0.0020 : 0.013098 <br>\n",
    "0.0030 : 0.013348 <br>"
   ]
  },
  {
   "cell_type": "code",
   "execution_count": 17,
   "metadata": {},
   "outputs": [
    {
     "data": {
      "text/plain": [
       "Pipeline(memory=None,\n",
       "     steps=[('colsel', ColumnSelectTransformer(col_names=['GDP_PC', 'cost_living', 'spi', 'unemp'])), ('scaler', MinMaxScaler(copy=True, feature_range=(0, 1))), ('lasso', Lasso(alpha=0.002, copy_X=True, fit_intercept=True, max_iter=1000,\n",
       "   normalize=False, positive=False, precompute=False, random_state=None,\n",
       "   selection='cyclic', tol=0.0001, warm_start=False))])"
      ]
     },
     "execution_count": 17,
     "metadata": {},
     "output_type": "execute_result"
    }
   ],
   "source": [
    "from sklearn.preprocessing import MinMaxScaler\n",
    "from sklearn.linear_model import Ridge\n",
    "from sklearn.pipeline import Pipeline\n",
    "from transformers import ColumnSelectTransformer\n",
    "\n",
    "used_vars = ['GDP_PC','cost_living','spi','unemp']  #selected by ridge\n",
    "\n",
    "cst = ColumnSelectTransformer(used_vars)\n",
    "sc = MinMaxScaler()\n",
    "clf = Lasso(alpha=0.002)\n",
    "\n",
    "pipe_lss = Pipeline([('colsel', cst), ('scaler', sc), ('lasso', clf)])\n",
    "pipe_lss.fit(X, y)"
   ]
  },
  {
   "cell_type": "code",
   "execution_count": 18,
   "metadata": {},
   "outputs": [
    {
     "data": {
      "text/plain": [
       "['state_lss.pkl']"
      ]
     },
     "execution_count": 18,
     "metadata": {},
     "output_type": "execute_result"
    }
   ],
   "source": [
    "import joblib\n",
    "joblib.dump(pipe_lss, 'state_lss.pkl')"
   ]
  },
  {
   "cell_type": "code",
   "execution_count": null,
   "metadata": {},
   "outputs": [],
   "source": []
  },
  {
   "cell_type": "code",
   "execution_count": 19,
   "metadata": {},
   "outputs": [],
   "source": [
    "import joblib\n",
    "#from transformers import ColumnSelectTransformer\n",
    "\n",
    "pipe_lss = joblib.load('state_lss.pkl')"
   ]
  },
  {
   "cell_type": "code",
   "execution_count": 20,
   "metadata": {},
   "outputs": [],
   "source": [
    "y_pred = pipe_lss.predict(X_test)"
   ]
  },
  {
   "cell_type": "code",
   "execution_count": 21,
   "metadata": {},
   "outputs": [
    {
     "data": {
      "text/plain": [
       "0.012771655888250693"
      ]
     },
     "execution_count": 21,
     "metadata": {},
     "output_type": "execute_result"
    }
   ],
   "source": [
    "from sklearn.metrics import mean_squared_error\n",
    "mean_squared_error(y_test, y_pred)"
   ]
  },
  {
   "cell_type": "markdown",
   "metadata": {},
   "source": [
    "Off course now is smaller, fitted with all data: 0.012771655888250693"
   ]
  },
  {
   "cell_type": "code",
   "execution_count": null,
   "metadata": {},
   "outputs": [],
   "source": []
  }
 ],
 "metadata": {
  "kernelspec": {
   "display_name": "Python 3",
   "language": "python",
   "name": "python3"
  },
  "language_info": {
   "codemirror_mode": {
    "name": "ipython",
    "version": 3
   },
   "file_extension": ".py",
   "mimetype": "text/x-python",
   "name": "python",
   "nbconvert_exporter": "python",
   "pygments_lexer": "ipython3",
   "version": "3.6.6"
  }
 },
 "nbformat": 4,
 "nbformat_minor": 2
}
