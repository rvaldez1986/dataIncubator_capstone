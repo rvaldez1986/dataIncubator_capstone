{
 "cells": [
  {
   "cell_type": "code",
   "execution_count": 13,
   "metadata": {},
   "outputs": [],
   "source": [
    "import pandas as pd\n",
    "import numpy as np"
   ]
  },
  {
   "cell_type": "markdown",
   "metadata": {},
   "source": []
  },
  {
   "cell_type": "code",
   "execution_count": 14,
   "metadata": {},
   "outputs": [],
   "source": [
    "X = pd.read_csv('../data/USA/LC/X_train.csv.gz', compression='gzip', low_memory=False)\n",
    "y = pd.read_csv('../data/USA/LC/y_train.csv')\n",
    "y = y.loan_status_bin  #as series"
   ]
  },
  {
   "cell_type": "code",
   "execution_count": 15,
   "metadata": {},
   "outputs": [],
   "source": [
    "X['grade']=X['grade'].map({'A': 1, 'B': 2, 'C': 3, 'D': 4, 'E': 5, 'F': 6, 'G': 7})\n",
    "X['annual_inc_log'] = X['annual_inc'].apply(np.log)"
   ]
  },
  {
   "cell_type": "code",
   "execution_count": 16,
   "metadata": {},
   "outputs": [],
   "source": [
    "used_vars = ['loan_amnt', 'term', 'int_rate',\n",
    "       'installment', 'grade', 'emp_length',\n",
    "       'home_ownership', 'annual_inc_log', 'verification_status',\n",
    "       'purpose', 'addr_state', 'dti', 'delinq_2yrs',\n",
    "       'fico_range_low', 'inq_last_6mths', 'open_acc',\n",
    "       'pub_rec', 'revol_bal', 'revol_util', 'total_acc']"
   ]
  },
  {
   "cell_type": "code",
   "execution_count": 17,
   "metadata": {},
   "outputs": [],
   "source": [
    "from sklearn.preprocessing import MinMaxScaler\n",
    "from sklearn.linear_model import LogisticRegression\n",
    "from sklearn.pipeline import Pipeline\n",
    "from transformers import ColumnSelectTransformer, EncoderTransformer\n",
    "\n",
    "cst = ColumnSelectTransformer(used_vars)\n",
    "sce = EncoderTransformer()\n",
    "sc = MinMaxScaler()\n",
    "clf = LogisticRegression(penalty='l1', C=0.01, random_state=0, solver='liblinear')\n",
    "\n",
    "pipe_lr = Pipeline([('colsel', cst), ('encoder', sce), ('scaler', sc), ('clf', clf)])"
   ]
  },
  {
   "cell_type": "code",
   "execution_count": 18,
   "metadata": {},
   "outputs": [
    {
     "data": {
      "text/plain": [
       "Pipeline(memory=None,\n",
       "     steps=[('colsel', ColumnSelectTransformer(col_names=['loan_amnt', 'term', 'int_rate', 'installment', 'grade', 'emp_length', 'home_ownership', 'annual_inc_log', 'verification_status', 'purpose', 'addr_state', 'dti', 'delinq_2yrs', 'fico_range_low', 'inq_last_6mths', 'open_acc', 'pub_rec', 'revol_bal'...nalty='l1', random_state=0, solver='liblinear',\n",
       "          tol=0.0001, verbose=0, warm_start=False))])"
      ]
     },
     "execution_count": 18,
     "metadata": {},
     "output_type": "execute_result"
    }
   ],
   "source": [
    "pipe_lr.fit(X, y)"
   ]
  },
  {
   "cell_type": "code",
   "execution_count": null,
   "metadata": {},
   "outputs": [],
   "source": []
  },
  {
   "cell_type": "code",
   "execution_count": null,
   "metadata": {},
   "outputs": [],
   "source": []
  },
  {
   "cell_type": "code",
   "execution_count": 19,
   "metadata": {},
   "outputs": [],
   "source": [
    "X_t = pd.read_csv('../data/USA/LC/X_test.csv')\n",
    "y_t = pd.read_csv('../data/USA/LC/y_test.csv')\n",
    "y_t = y_t.loan_status_bin  #as series"
   ]
  },
  {
   "cell_type": "code",
   "execution_count": 20,
   "metadata": {},
   "outputs": [],
   "source": [
    "X_t['grade']=X_t['grade'].map({'A': 1, 'B': 2, 'C': 3, 'D': 4, 'E': 5, 'F': 6, 'G': 7})\n",
    "X_t['annual_inc_log'] = X_t['annual_inc'].apply(np.log)"
   ]
  },
  {
   "cell_type": "code",
   "execution_count": 21,
   "metadata": {},
   "outputs": [],
   "source": [
    "test_probas = pipe_lr.predict_proba(X_t)[:,1]"
   ]
  },
  {
   "cell_type": "code",
   "execution_count": 22,
   "metadata": {},
   "outputs": [
    {
     "name": "stdout",
     "output_type": "stream",
     "text": [
      "ROC-AUC-score:  0.7129020566821589\n"
     ]
    },
    {
     "data": {
      "image/png": "[encoded data removed]",
      "text/plain": [
       "<Figure size 432x288 with 1 Axes>"
      ]
     },
     "metadata": {
      "needs_background": "light"
     },
     "output_type": "display_data"
    }
   ],
   "source": [
    "from sklearn.metrics import roc_auc_score\n",
    "from sklearn.metrics import roc_curve\n",
    "import matplotlib.pyplot as plt\n",
    "\n",
    "fpr, tpr, tresholds = roc_curve(y_t, test_probas)\n",
    "plt.plot(fpr, tpr)\n",
    "plt.title('ROC')\n",
    "plt.xlabel('FPR')\n",
    "plt.ylabel('TPR')\n",
    "\n",
    "print('ROC-AUC-score: ', roc_auc_score(y_t, test_probas))"
   ]
  },
  {
   "cell_type": "code",
   "execution_count": null,
   "metadata": {},
   "outputs": [],
   "source": []
  },
  {
   "cell_type": "markdown",
   "metadata": {},
   "source": [
    "0.7129 original <br>\n",
    "0.7107 original wout state data <br>\n",
    "0.7084 wout american <br>\n",
    "0.7062 wout american and state data <br>\n"
   ]
  },
  {
   "cell_type": "code",
   "execution_count": 23,
   "metadata": {},
   "outputs": [
    {
     "data": {
      "text/plain": [
       "[('MS', 0.23679326565845768),\n",
       " ('LA', 0.2082991165993046),\n",
       " ('AR', 0.19508172566369564),\n",
       " ('OK', 0.17832785923800246),\n",
       " ('AL', 0.1620205166433522),\n",
       " ('NV', 0.09437833668670807),\n",
       " ('NY', 0.08291672938041537),\n",
       " ('MO', 0.07598179995001202),\n",
       " ('NJ', 0.07196270302474095),\n",
       " ('MD', 0.06182220563032374),\n",
       " ('FL', 0.06005873780235437),\n",
       " ('NE', 0.054162604637455515),\n",
       " ('IN', 0.0462673580598451),\n",
       " ('NC', 0.035769552962874505),\n",
       " ('TX', 0.03453875573784838),\n",
       " ('TN', 0.032433320529963824),\n",
       " ('NM', 0.01469528324350385),\n",
       " ('OH', 0.00842312985400238),\n",
       " ('PA', 0.004737015220169206),\n",
       " ('AK', 0.0),\n",
       " ('AZ', 0.0),\n",
       " ('DE', 0.0),\n",
       " ('HI', 0.0),\n",
       " ('IA', 0.0),\n",
       " ('ID', 0.0),\n",
       " ('KY', 0.0),\n",
       " ('MA', 0.0),\n",
       " ('ME', 0.0),\n",
       " ('MI', 0.0),\n",
       " ('MN', 0.0),\n",
       " ('MT', 0.0),\n",
       " ('ND', 0.0),\n",
       " ('RI', 0.0),\n",
       " ('SD', 0.0),\n",
       " ('VA', 0.0),\n",
       " ('VT', 0.0),\n",
       " ('WY', 0.0),\n",
       " ('CA', -0.02982152676910996),\n",
       " ('WI', -0.05210485875113093),\n",
       " ('GA', -0.07574281655714835),\n",
       " ('IL', -0.08264008785504187),\n",
       " ('UT', -0.09239051966183127),\n",
       " ('WV', -0.0955982880108467),\n",
       " ('CT', -0.09634766263034278),\n",
       " ('KS', -0.09808314546577099),\n",
       " ('DC', -0.13424849466317756),\n",
       " ('NH', -0.17897989635693315),\n",
       " ('SC', -0.18846915388321628),\n",
       " ('CO', -0.285447389008672),\n",
       " ('WA', -0.29328287880080556),\n",
       " ('OR', -0.3521486432727103)]"
      ]
     },
     "execution_count": 23,
     "metadata": {},
     "output_type": "execute_result"
    }
   ],
   "source": [
    "tp = list(zip(pipe_lr.named_steps['encoder'].feature_Names, pipe_lr.named_steps['clf'].coef_[0]))\n",
    "state_coef = sorted([(x[0][11:],x[1]) for x in tp if x[0][:10]=='addr_state'], key = lambda t: t[1], reverse=True)\n",
    "state_coef"
   ]
  },
  {
   "cell_type": "code",
   "execution_count": 24,
   "metadata": {},
   "outputs": [],
   "source": [
    "import pickle\n",
    "with open('../data/USA/LC/state_coef.pickle', 'wb') as b:\n",
    "    pickle.dump(state_coef,b)"
   ]
  },
  {
   "cell_type": "code",
   "execution_count": null,
   "metadata": {},
   "outputs": [],
   "source": []
  },
  {
   "cell_type": "code",
   "execution_count": null,
   "metadata": {},
   "outputs": [],
   "source": []
  }
 ],
 "metadata": {
  "kernelspec": {
   "display_name": "Python 3",
   "language": "python",
   "name": "python3"
  },
  "language_info": {
   "codemirror_mode": {
    "name": "ipython",
    "version": 3
   },
   "file_extension": ".py",
   "mimetype": "text/x-python",
   "name": "python",
   "nbconvert_exporter": "python",
   "pygments_lexer": "ipython3",
   "version": "3.6.6"
  }
 },
 "nbformat": 4,
 "nbformat_minor": 2
}
