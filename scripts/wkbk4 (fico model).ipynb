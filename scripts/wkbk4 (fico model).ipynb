{
 "cells": [
  {
   "cell_type": "code",
   "execution_count": 128,
   "metadata": {},
   "outputs": [],
   "source": [
    "import pandas as pd\n",
    "import numpy as np"
   ]
  },
  {
   "cell_type": "code",
   "execution_count": null,
   "metadata": {},
   "outputs": [],
   "source": []
  },
  {
   "cell_type": "code",
   "execution_count": 129,
   "metadata": {},
   "outputs": [
    {
     "data": {
      "text/html": [
       "<div>\n",
       "<style scoped>\n",
       "    .dataframe tbody tr th:only-of-type {\n",
       "        vertical-align: middle;\n",
       "    }\n",
       "\n",
       "    .dataframe tbody tr th {\n",
       "        vertical-align: top;\n",
       "    }\n",
       "\n",
       "    .dataframe thead th {\n",
       "        text-align: right;\n",
       "    }\n",
       "</style>\n",
       "<table border=\"1\" class=\"dataframe\">\n",
       "  <thead>\n",
       "    <tr style=\"text-align: right;\">\n",
       "      <th></th>\n",
       "      <th>loan_amnt</th>\n",
       "      <th>term</th>\n",
       "      <th>int_rate</th>\n",
       "      <th>installment</th>\n",
       "      <th>grade</th>\n",
       "      <th>emp_length</th>\n",
       "      <th>home_ownership</th>\n",
       "      <th>annual_inc</th>\n",
       "      <th>verification_status</th>\n",
       "      <th>purpose</th>\n",
       "      <th>...</th>\n",
       "      <th>dti</th>\n",
       "      <th>delinq_2yrs</th>\n",
       "      <th>fico_range_low</th>\n",
       "      <th>inq_last_6mths</th>\n",
       "      <th>open_acc</th>\n",
       "      <th>pub_rec</th>\n",
       "      <th>revol_bal</th>\n",
       "      <th>revol_util</th>\n",
       "      <th>total_acc</th>\n",
       "      <th>hardship_flag</th>\n",
       "    </tr>\n",
       "  </thead>\n",
       "  <tbody>\n",
       "    <tr>\n",
       "      <th>0</th>\n",
       "      <td>14400.0</td>\n",
       "      <td>60 months</td>\n",
       "      <td>12.49</td>\n",
       "      <td>323.90</td>\n",
       "      <td>B</td>\n",
       "      <td>7 years</td>\n",
       "      <td>MORTGAGE</td>\n",
       "      <td>40000.0</td>\n",
       "      <td>Not Verified</td>\n",
       "      <td>debt_consolidation</td>\n",
       "      <td>...</td>\n",
       "      <td>16.08</td>\n",
       "      <td>0.0</td>\n",
       "      <td>770.0</td>\n",
       "      <td>0.0</td>\n",
       "      <td>13.0</td>\n",
       "      <td>0.0</td>\n",
       "      <td>7771.0</td>\n",
       "      <td>13.8</td>\n",
       "      <td>30.0</td>\n",
       "      <td>N</td>\n",
       "    </tr>\n",
       "    <tr>\n",
       "      <th>1</th>\n",
       "      <td>9600.0</td>\n",
       "      <td>36 months</td>\n",
       "      <td>13.99</td>\n",
       "      <td>328.06</td>\n",
       "      <td>C</td>\n",
       "      <td>6 years</td>\n",
       "      <td>RENT</td>\n",
       "      <td>60000.0</td>\n",
       "      <td>Verified</td>\n",
       "      <td>debt_consolidation</td>\n",
       "      <td>...</td>\n",
       "      <td>16.54</td>\n",
       "      <td>0.0</td>\n",
       "      <td>675.0</td>\n",
       "      <td>1.0</td>\n",
       "      <td>12.0</td>\n",
       "      <td>0.0</td>\n",
       "      <td>10965.0</td>\n",
       "      <td>87.7</td>\n",
       "      <td>31.0</td>\n",
       "      <td>N</td>\n",
       "    </tr>\n",
       "    <tr>\n",
       "      <th>2</th>\n",
       "      <td>11500.0</td>\n",
       "      <td>60 months</td>\n",
       "      <td>15.61</td>\n",
       "      <td>277.29</td>\n",
       "      <td>C</td>\n",
       "      <td>10+ years</td>\n",
       "      <td>RENT</td>\n",
       "      <td>34000.0</td>\n",
       "      <td>Source Verified</td>\n",
       "      <td>debt_consolidation</td>\n",
       "      <td>...</td>\n",
       "      <td>17.08</td>\n",
       "      <td>0.0</td>\n",
       "      <td>685.0</td>\n",
       "      <td>0.0</td>\n",
       "      <td>7.0</td>\n",
       "      <td>0.0</td>\n",
       "      <td>9321.0</td>\n",
       "      <td>48.8</td>\n",
       "      <td>8.0</td>\n",
       "      <td>N</td>\n",
       "    </tr>\n",
       "    <tr>\n",
       "      <th>3</th>\n",
       "      <td>10000.0</td>\n",
       "      <td>36 months</td>\n",
       "      <td>11.49</td>\n",
       "      <td>329.72</td>\n",
       "      <td>B</td>\n",
       "      <td>10+ years</td>\n",
       "      <td>MORTGAGE</td>\n",
       "      <td>49000.0</td>\n",
       "      <td>Source Verified</td>\n",
       "      <td>credit_card</td>\n",
       "      <td>...</td>\n",
       "      <td>13.92</td>\n",
       "      <td>1.0</td>\n",
       "      <td>680.0</td>\n",
       "      <td>1.0</td>\n",
       "      <td>9.0</td>\n",
       "      <td>0.0</td>\n",
       "      <td>5984.0</td>\n",
       "      <td>48.3</td>\n",
       "      <td>34.0</td>\n",
       "      <td>N</td>\n",
       "    </tr>\n",
       "    <tr>\n",
       "      <th>4</th>\n",
       "      <td>3500.0</td>\n",
       "      <td>36 months</td>\n",
       "      <td>19.03</td>\n",
       "      <td>128.35</td>\n",
       "      <td>D</td>\n",
       "      <td>10+ years</td>\n",
       "      <td>MORTGAGE</td>\n",
       "      <td>40000.0</td>\n",
       "      <td>Source Verified</td>\n",
       "      <td>debt_consolidation</td>\n",
       "      <td>...</td>\n",
       "      <td>24.33</td>\n",
       "      <td>0.0</td>\n",
       "      <td>660.0</td>\n",
       "      <td>0.0</td>\n",
       "      <td>7.0</td>\n",
       "      <td>1.0</td>\n",
       "      <td>9254.0</td>\n",
       "      <td>54.1</td>\n",
       "      <td>16.0</td>\n",
       "      <td>N</td>\n",
       "    </tr>\n",
       "  </tbody>\n",
       "</table>\n",
       "<p>5 rows × 21 columns</p>\n",
       "</div>"
      ],
      "text/plain": [
       "   loan_amnt        term  int_rate  installment grade emp_length  \\\n",
       "0    14400.0   60 months     12.49       323.90     B    7 years   \n",
       "1     9600.0   36 months     13.99       328.06     C    6 years   \n",
       "2    11500.0   60 months     15.61       277.29     C  10+ years   \n",
       "3    10000.0   36 months     11.49       329.72     B  10+ years   \n",
       "4     3500.0   36 months     19.03       128.35     D  10+ years   \n",
       "\n",
       "  home_ownership  annual_inc verification_status             purpose  ...  \\\n",
       "0       MORTGAGE     40000.0        Not Verified  debt_consolidation  ...   \n",
       "1           RENT     60000.0            Verified  debt_consolidation  ...   \n",
       "2           RENT     34000.0     Source Verified  debt_consolidation  ...   \n",
       "3       MORTGAGE     49000.0     Source Verified         credit_card  ...   \n",
       "4       MORTGAGE     40000.0     Source Verified  debt_consolidation  ...   \n",
       "\n",
       "     dti  delinq_2yrs  fico_range_low  inq_last_6mths  open_acc  pub_rec  \\\n",
       "0  16.08          0.0           770.0             0.0      13.0      0.0   \n",
       "1  16.54          0.0           675.0             1.0      12.0      0.0   \n",
       "2  17.08          0.0           685.0             0.0       7.0      0.0   \n",
       "3  13.92          1.0           680.0             1.0       9.0      0.0   \n",
       "4  24.33          0.0           660.0             0.0       7.0      1.0   \n",
       "\n",
       "   revol_bal  revol_util  total_acc  hardship_flag  \n",
       "0     7771.0        13.8       30.0              N  \n",
       "1    10965.0        87.7       31.0              N  \n",
       "2     9321.0        48.8        8.0              N  \n",
       "3     5984.0        48.3       34.0              N  \n",
       "4     9254.0        54.1       16.0              N  \n",
       "\n",
       "[5 rows x 21 columns]"
      ]
     },
     "execution_count": 129,
     "metadata": {},
     "output_type": "execute_result"
    }
   ],
   "source": [
    "df = pd.read_csv('../data/USA/LC/X_train.csv.gz')\n",
    "df.head()"
   ]
  },
  {
   "cell_type": "code",
   "execution_count": 130,
   "metadata": {},
   "outputs": [],
   "source": [
    "X = df[[x for x in df.columns if x != 'fico_range_low']]\n",
    "y= df.fico_range_low"
   ]
  },
  {
   "cell_type": "code",
   "execution_count": 131,
   "metadata": {},
   "outputs": [
    {
     "data": {
      "text/plain": [
       "<matplotlib.axes._subplots.AxesSubplot at 0x203e4a06e48>"
      ]
     },
     "execution_count": 131,
     "metadata": {},
     "output_type": "execute_result"
    },
    {
     "data": {
      "image/png": "[encoded data removed]",
      "text/plain": [
       "<Figure size 432x288 with 1 Axes>"
      ]
     },
     "metadata": {
      "needs_background": "light"
     },
     "output_type": "display_data"
    }
   ],
   "source": [
    "y.hist()"
   ]
  },
  {
   "cell_type": "code",
   "execution_count": 132,
   "metadata": {},
   "outputs": [],
   "source": [
    "from sklearn.preprocessing import MinMaxScaler\n",
    "yscaler = MinMaxScaler()\n",
    "ys = yscaler.fit_transform(y.values.reshape(-1,1)).reshape(1,-1)[0]"
   ]
  },
  {
   "cell_type": "code",
   "execution_count": 133,
   "metadata": {},
   "outputs": [
    {
     "data": {
      "text/plain": [
       "Text(0, 0.5, 'Frequency')"
      ]
     },
     "execution_count": 133,
     "metadata": {},
     "output_type": "execute_result"
    },
    {
     "data": {
      "image/png": "[encoded data removed]",
      "text/plain": [
       "<Figure size 432x288 with 1 Axes>"
      ]
     },
     "metadata": {
      "needs_background": "light"
     },
     "output_type": "display_data"
    }
   ],
   "source": [
    "import matplotlib.pyplot as plt\n",
    "plt.hist(ys)\n",
    "plt.xlabel('Value')\n",
    "plt.ylabel('Frequency')"
   ]
  },
  {
   "cell_type": "code",
   "execution_count": 134,
   "metadata": {},
   "outputs": [
    {
     "data": {
      "text/plain": [
       "Index(['loan_amnt', 'term', 'int_rate', 'installment', 'grade', 'emp_length',\n",
       "       'home_ownership', 'annual_inc', 'verification_status', 'purpose',\n",
       "       'addr_state', 'dti', 'delinq_2yrs', 'fico_range_low', 'inq_last_6mths',\n",
       "       'open_acc', 'pub_rec', 'revol_bal', 'revol_util', 'total_acc',\n",
       "       'hardship_flag'],\n",
       "      dtype='object')"
      ]
     },
     "execution_count": 134,
     "metadata": {},
     "output_type": "execute_result"
    }
   ],
   "source": [
    "df.columns"
   ]
  },
  {
   "cell_type": "code",
   "execution_count": 137,
   "metadata": {},
   "outputs": [],
   "source": [
    "fico_vars = ['emp_length', 'home_ownership', 'annual_inc', \n",
    "                'verification_status', 'dti', 'delinq_2yrs', 'inq_last_6mths','open_acc', \n",
    "                    'pub_rec', 'revol_bal', 'total_acc']  "
   ]
  },
  {
   "cell_type": "markdown",
   "metadata": {},
   "source": [
    "fico_vars: variables related to the person not to the characteristics of the loan"
   ]
  },
  {
   "cell_type": "code",
   "execution_count": 138,
   "metadata": {},
   "outputs": [
    {
     "data": {
      "text/plain": [
       "annual_inc                             0.072834\n",
       "dti                                   -0.071336\n",
       "delinq_2yrs                           -0.176356\n",
       "inq_last_6mths                        -0.085164\n",
       "open_acc                               0.014420\n",
       "pub_rec                               -0.187523\n",
       "revol_bal                              0.024489\n",
       "total_acc                              0.022071\n",
       "emp_length_1 year                     -0.011408\n",
       "emp_length_10+ years                   0.019903\n",
       "emp_length_2 years                    -0.008397\n",
       "emp_length_3 years                    -0.008303\n",
       "emp_length_4 years                    -0.004381\n",
       "emp_length_5 years                    -0.002199\n",
       "emp_length_6 years                    -0.001806\n",
       "emp_length_7 years                    -0.002848\n",
       "emp_length_8 years                     0.000421\n",
       "emp_length_9 years                     0.001257\n",
       "emp_length_< 1 year                    0.001743\n",
       "home_ownership_ANY                     0.003008\n",
       "home_ownership_MORTGAGE                0.098901\n",
       "home_ownership_NONE                   -0.000969\n",
       "home_ownership_OTHER                   0.003572\n",
       "home_ownership_OWN                     0.016175\n",
       "home_ownership_RENT                   -0.111059\n",
       "verification_status_Not Verified       0.148856\n",
       "verification_status_Source Verified   -0.080331\n",
       "verification_status_Verified          -0.064609\n",
       "y                                      1.000000\n",
       "Name: y, dtype: float64"
      ]
     },
     "execution_count": 138,
     "metadata": {},
     "output_type": "execute_result"
    }
   ],
   "source": [
    "from transformers import ColumnSelectTransformer, EncoderTransformer\n",
    "cst = ColumnSelectTransformer(fico_vars)\n",
    "sce = EncoderTransformer()\n",
    "X2 = cst.fit_transform(df)\n",
    "X4 = sce.fit_transform(X2)\n",
    "X4['y'] = ys\n",
    "corr = X4.corr()\n",
    "corr.y"
   ]
  },
  {
   "cell_type": "markdown",
   "metadata": {},
   "source": [
    "## Correlation Analysis\n",
    "\n",
    "**annual_inc**:  0.072834, correct, as income increases we expect a higher fico score <br>\n",
    "<br>\n",
    "**dti**:  -0.071336, correct, high debt to income translates in lower fico score <br>\n",
    "<br>\n",
    "**delinq_2yrs**:  -0.176356, correct, delinquency in the last two years translates in lower ficto scores <br>\n",
    "<br>\n",
    "**inq_last_6mths**:   -0.085164, correct, inquires decrease fico score, LC explains it: <br>\n",
    "<br>\n",
    "When you apply for a credit card, mortgage, loan, or other credit, a hard credit inquiry appears on your credit report. One hard inquiry usually has little impact on your credit score, often a decrease of 1–5 points. Multiple inquiries can add up and have a larger impact.<br>\n",
    "<br>\n",
    "**open_acc**:  0.014420, correct, if you have an account open your fico score must increase  <br>      \n",
    "<br>\n",
    "**pub_rec**:  -0.187523, correct, Number of derogatory public records, decrease fico <br>\n",
    "<br>\n",
    "**revol_bal**:  0.024489, so so , there is a positive correlation between having previous credits to your fico score, its low, not that straightforward <br>\n",
    "<br>\n",
    "**total_acc**: 0.022071, correct, as more credit lines the borrower has, higher fico score <br>\n",
    "<br>\n",
    "\n",
    "**verification_status**: We can see that credits that are not verified have higher fico scores, more verification, tends to decrease fico: <br>\n",
    "<br>\n",
    "verification_status_Not Verified:         0.148856<br>\n",
    "<br>\n",
    "verification_status_Source Verified:     -0.080331<br>\n",
    "verification_status_Verified:            -0.064609<br>\n",
    "<br>\n",
    "This can be understood by LC explanation: <br>\n",
    "<br>\n",
    "Checking a borrower's income or income source may reduce risk in certain circumstances, such as screening for exaggerated income on an application. On the other hand, when an initial loan application passes our robust screening models, we generally deem the applicant to be less risky and therefore don’t always need to verify their income.<br>\n",
    "\n",
    "\n",
    "**home_ownership**: We can see a correct behavior, borrowers who own property have higher fico score, borrowers without property or who rent have lower fico:<br>\n",
    "<br>\n",
    "home_ownership_OWN:                      0.016175<br>\n",
    "home_ownership_ANY:                      0.003008<br>\n",
    "home_ownership_MORTGAGE:                 0.098901<br>\n",
    "home_ownership_OTHER:                    0.003572<br>\n",
    "<br>\n",
    "<br>\n",
    "home_ownership_NONE:                    -0.000969<br>\n",
    "home_ownership_RENT:                    -0.111059<br>\n",
    "<br>\n",
    "\n",
    "**emp_length**: <br>\n"
   ]
  },
  {
   "cell_type": "code",
   "execution_count": 28,
   "metadata": {},
   "outputs": [
    {
     "data": {
      "image/png": "[encoded data removed]",
      "text/plain": [
       "<Figure size 432x288 with 1 Axes>"
      ]
     },
     "metadata": {
      "needs_background": "light"
     },
     "output_type": "display_data"
    }
   ],
   "source": [
    "import matplotlib.pyplot as plt\n",
    "c = np.array([0.001743, -0.011408, -0.008397, -0.008303,  -0.004381,\n",
    "              -0.002199,-0.001806, -0.002848,0.000421,0.001257,0.019903])\n",
    "\n",
    "labels = ['< 1 year',  '1 year', '2 years','3 years','4 years',\n",
    "    '5 years', '6 years','7 years','8 years','9 years',\n",
    "'10+ years']\n",
    "\n",
    "plt.plot(c, marker='o', markerfacecolor='blue', markersize=12, color='skyblue', linewidth=4)\n",
    "plt.xticks(range(len(labels)), labels, rotation='vertical')\n",
    "plt.show()"
   ]
  },
  {
   "cell_type": "markdown",
   "metadata": {},
   "source": [
    "generally as employment length increases, fico score increases"
   ]
  },
  {
   "cell_type": "code",
   "execution_count": null,
   "metadata": {},
   "outputs": [],
   "source": []
  },
  {
   "cell_type": "code",
   "execution_count": 30,
   "metadata": {},
   "outputs": [],
   "source": [
    "from sklearn.model_selection import train_test_split\n",
    "X_train, X_test, y_train, y_test = train_test_split(X, y, test_size=0.20, random_state=45, shuffle=True)"
   ]
  },
  {
   "cell_type": "code",
   "execution_count": 115,
   "metadata": {},
   "outputs": [],
   "source": [
    "from sklearn.preprocessing import MinMaxScaler\n",
    "from sklearn.pipeline import Pipeline\n",
    "from transformers import ColumnSelectTransformer, EncoderTransformer\n",
    "from sklearn.linear_model import Lasso\n",
    "from sklearn.linear_model import Ridge\n",
    "\n",
    "\n",
    "fico_vars = ['emp_length', 'home_ownership', 'annual_inc', \n",
    "                'verification_status', 'dti', 'delinq_2yrs', 'inq_last_6mths','open_acc', \n",
    "                    'pub_rec', 'revol_bal', 'total_acc']  \n",
    "\n",
    "cst = ColumnSelectTransformer(fico_vars)\n",
    "sce = EncoderTransformer()\n",
    "sc = MinMaxScaler()\n",
    "clf = Ridge(alpha=3, max_iter=3000)\n",
    "\n",
    "pipe_rdg = Pipeline([('colsel', cst), ('sce', sce), ('scaler', sc), ('lasso', clf)])"
   ]
  },
  {
   "cell_type": "code",
   "execution_count": 116,
   "metadata": {},
   "outputs": [
    {
     "data": {
      "text/plain": [
       "Pipeline(memory=None,\n",
       "     steps=[('colsel', ColumnSelectTransformer(col_names=['emp_length', 'home_ownership', 'annual_inc', 'verification_status', 'dti', 'delinq_2yrs', 'inq_last_6mths', 'open_acc', 'pub_rec', 'revol_bal', 'total_acc'])), ('sce', EncoderTransformer()), ('scaler', MinMaxScaler(copy=True, feature_range=(0, 1))), ('lasso', Ridge(alpha=3, copy_X=True, fit_intercept=True, max_iter=3000,\n",
       "   normalize=False, random_state=None, solver='auto', tol=0.001))])"
      ]
     },
     "execution_count": 116,
     "metadata": {},
     "output_type": "execute_result"
    }
   ],
   "source": [
    "pipe_rdg.fit(X_train, y_train)"
   ]
  },
  {
   "cell_type": "code",
   "execution_count": 117,
   "metadata": {},
   "outputs": [],
   "source": [
    "y_pred = pipe_rdg.predict(X_test)"
   ]
  },
  {
   "cell_type": "code",
   "execution_count": 118,
   "metadata": {},
   "outputs": [
    {
     "data": {
      "text/plain": [
       "29.74765065136864"
      ]
     },
     "execution_count": 118,
     "metadata": {},
     "output_type": "execute_result"
    }
   ],
   "source": [
    "from sklearn.metrics import mean_squared_error\n",
    "np.sqrt(mean_squared_error(y_test, y_pred))"
   ]
  },
  {
   "cell_type": "code",
   "execution_count": null,
   "metadata": {},
   "outputs": [],
   "source": []
  },
  {
   "cell_type": "markdown",
   "metadata": {},
   "source": [
    "0.0001 : 29.749235540985673 <br>\n",
    "0.0005 : 29.74923474152018 <br>\n",
    "0.001  : 29.74923374244403 <br>\n",
    "0.002  : 29.749231745144055 <br>\n",
    "0.003  : 29.749229748980373 <br>\n",
    "0.005  : 29.74922576006117 <br>\n",
    "0.01   : 29.749215807635945 <br>\n",
    "0.05   : 29.749137207792266 <br>\n",
    "0.1    : 29.74904149445099 <br>\n",
    "0.5    : 29.748374732589085 <br>\n",
    "1      : 29.74777693785163 <br>\n",
    "2      : 29.747294691319702 <br>\n",
    "3      : 29.74765065136864 <br>\n",
    "5      : 29.750421234279326 <br>"
   ]
  },
  {
   "cell_type": "code",
   "execution_count": null,
   "metadata": {},
   "outputs": [],
   "source": []
  },
  {
   "cell_type": "code",
   "execution_count": 120,
   "metadata": {},
   "outputs": [],
   "source": [
    "from sklearn.preprocessing import MinMaxScaler\n",
    "from sklearn.pipeline import Pipeline\n",
    "from transformers import ColumnSelectTransformer, EncoderTransformer\n",
    "from sklearn.linear_model import Lasso\n",
    "from sklearn.linear_model import Ridge\n",
    "\n",
    "\n",
    "fico_vars = ['emp_length', 'home_ownership', 'annual_inc', \n",
    "                'verification_status', 'dti', 'delinq_2yrs', 'inq_last_6mths','open_acc', \n",
    "                    'pub_rec', 'revol_bal', 'total_acc']  \n",
    "\n",
    "cst = ColumnSelectTransformer(fico_vars)\n",
    "sce = EncoderTransformer()\n",
    "sc = MinMaxScaler()\n",
    "clf = Ridge(alpha=2, max_iter=3000)\n",
    "\n",
    "pipe_fico = Pipeline([('colsel', cst), ('sce', sce), ('scaler', sc), ('Ridge', clf)])"
   ]
  },
  {
   "cell_type": "code",
   "execution_count": 121,
   "metadata": {},
   "outputs": [
    {
     "data": {
      "text/plain": [
       "Pipeline(memory=None,\n",
       "     steps=[('colsel', ColumnSelectTransformer(col_names=['emp_length', 'home_ownership', 'annual_inc', 'verification_status', 'dti', 'delinq_2yrs', 'inq_last_6mths', 'open_acc', 'pub_rec', 'revol_bal', 'total_acc'])), ('sce', EncoderTransformer()), ('scaler', MinMaxScaler(copy=True, feature_range=(0, 1))), ('Ridge', Ridge(alpha=2, copy_X=True, fit_intercept=True, max_iter=3000,\n",
       "   normalize=False, random_state=None, solver='auto', tol=0.001))])"
      ]
     },
     "execution_count": 121,
     "metadata": {},
     "output_type": "execute_result"
    }
   ],
   "source": [
    "pipe_fico.fit(X, y)"
   ]
  },
  {
   "cell_type": "code",
   "execution_count": 123,
   "metadata": {},
   "outputs": [
    {
     "data": {
      "text/plain": [
       "['../data/USA/LC/fico_model.pkl']"
      ]
     },
     "execution_count": 123,
     "metadata": {},
     "output_type": "execute_result"
    }
   ],
   "source": [
    "import joblib\n",
    "joblib.dump(pipe_fico, '../data/USA/LC/fico_model.pkl')"
   ]
  },
  {
   "cell_type": "code",
   "execution_count": null,
   "metadata": {},
   "outputs": [],
   "source": []
  },
  {
   "cell_type": "code",
   "execution_count": 124,
   "metadata": {},
   "outputs": [],
   "source": [
    "import joblib\n",
    "#from transformers import ColumnSelectTransformer\n",
    "\n",
    "pipe_fico = joblib.load('../data/USA/LC/fico_model.pkl')"
   ]
  },
  {
   "cell_type": "code",
   "execution_count": 125,
   "metadata": {},
   "outputs": [],
   "source": [
    "y_pred = pipe_fico.predict(X_test)"
   ]
  },
  {
   "cell_type": "code",
   "execution_count": 127,
   "metadata": {},
   "outputs": [
    {
     "data": {
      "text/plain": [
       "29.744962928266546"
      ]
     },
     "execution_count": 127,
     "metadata": {},
     "output_type": "execute_result"
    }
   ],
   "source": [
    "from sklearn.metrics import mean_squared_error\n",
    "np.sqrt(mean_squared_error(y_test, y_pred))"
   ]
  },
  {
   "cell_type": "code",
   "execution_count": null,
   "metadata": {},
   "outputs": [],
   "source": []
  }
 ],
 "metadata": {
  "kernelspec": {
   "display_name": "Python 3",
   "language": "python",
   "name": "python3"
  },
  "language_info": {
   "codemirror_mode": {
    "name": "ipython",
    "version": 3
   },
   "file_extension": ".py",
   "mimetype": "text/x-python",
   "name": "python",
   "nbconvert_exporter": "python",
   "pygments_lexer": "ipython3",
   "version": "3.6.6"
  }
 },
 "nbformat": 4,
 "nbformat_minor": 2
}
