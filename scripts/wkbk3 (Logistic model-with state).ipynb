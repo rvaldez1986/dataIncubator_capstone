{
 "cells": [
  {
   "cell_type": "code",
   "execution_count": 16,
   "metadata": {},
   "outputs": [],
   "source": [
    "import pandas as pd\n",
    "import numpy as np"
   ]
  },
  {
   "cell_type": "code",
   "execution_count": 17,
   "metadata": {},
   "outputs": [],
   "source": [
    "X = pd.read_csv('../data/USA/LC/X_train.csv.gz')\n",
    "y = pd.read_csv('../data/USA/LC/y_train.csv')\n",
    "y = y.loan_status_bin  #as series"
   ]
  },
  {
   "cell_type": "code",
   "execution_count": 18,
   "metadata": {},
   "outputs": [
    {
     "data": {
      "text/html": [
       "<div>\n",
       "<style scoped>\n",
       "    .dataframe tbody tr th:only-of-type {\n",
       "        vertical-align: middle;\n",
       "    }\n",
       "\n",
       "    .dataframe tbody tr th {\n",
       "        vertical-align: top;\n",
       "    }\n",
       "\n",
       "    .dataframe thead th {\n",
       "        text-align: right;\n",
       "    }\n",
       "</style>\n",
       "<table border=\"1\" class=\"dataframe\">\n",
       "  <thead>\n",
       "    <tr style=\"text-align: right;\">\n",
       "      <th></th>\n",
       "      <th>loan_amnt</th>\n",
       "      <th>term</th>\n",
       "      <th>int_rate</th>\n",
       "      <th>installment</th>\n",
       "      <th>grade</th>\n",
       "      <th>emp_length</th>\n",
       "      <th>home_ownership</th>\n",
       "      <th>annual_inc</th>\n",
       "      <th>verification_status</th>\n",
       "      <th>purpose</th>\n",
       "      <th>...</th>\n",
       "      <th>dti</th>\n",
       "      <th>delinq_2yrs</th>\n",
       "      <th>fico_range_low</th>\n",
       "      <th>inq_last_6mths</th>\n",
       "      <th>open_acc</th>\n",
       "      <th>pub_rec</th>\n",
       "      <th>revol_bal</th>\n",
       "      <th>revol_util</th>\n",
       "      <th>total_acc</th>\n",
       "      <th>annual_inc_log</th>\n",
       "    </tr>\n",
       "  </thead>\n",
       "  <tbody>\n",
       "    <tr>\n",
       "      <th>0</th>\n",
       "      <td>14400.0</td>\n",
       "      <td>60 months</td>\n",
       "      <td>12.49</td>\n",
       "      <td>323.90</td>\n",
       "      <td>2</td>\n",
       "      <td>7 years</td>\n",
       "      <td>MORTGAGE</td>\n",
       "      <td>40000.0</td>\n",
       "      <td>Not Verified</td>\n",
       "      <td>debt_consolidation</td>\n",
       "      <td>...</td>\n",
       "      <td>16.08</td>\n",
       "      <td>0.0</td>\n",
       "      <td>770.0</td>\n",
       "      <td>0.0</td>\n",
       "      <td>13.0</td>\n",
       "      <td>0.0</td>\n",
       "      <td>7771.0</td>\n",
       "      <td>13.8</td>\n",
       "      <td>30.0</td>\n",
       "      <td>10.596635</td>\n",
       "    </tr>\n",
       "    <tr>\n",
       "      <th>1</th>\n",
       "      <td>9600.0</td>\n",
       "      <td>36 months</td>\n",
       "      <td>13.99</td>\n",
       "      <td>328.06</td>\n",
       "      <td>3</td>\n",
       "      <td>6 years</td>\n",
       "      <td>RENT</td>\n",
       "      <td>60000.0</td>\n",
       "      <td>Verified</td>\n",
       "      <td>debt_consolidation</td>\n",
       "      <td>...</td>\n",
       "      <td>16.54</td>\n",
       "      <td>0.0</td>\n",
       "      <td>675.0</td>\n",
       "      <td>1.0</td>\n",
       "      <td>12.0</td>\n",
       "      <td>0.0</td>\n",
       "      <td>10965.0</td>\n",
       "      <td>87.7</td>\n",
       "      <td>31.0</td>\n",
       "      <td>11.002100</td>\n",
       "    </tr>\n",
       "    <tr>\n",
       "      <th>2</th>\n",
       "      <td>11500.0</td>\n",
       "      <td>60 months</td>\n",
       "      <td>15.61</td>\n",
       "      <td>277.29</td>\n",
       "      <td>3</td>\n",
       "      <td>10+ years</td>\n",
       "      <td>RENT</td>\n",
       "      <td>34000.0</td>\n",
       "      <td>Source Verified</td>\n",
       "      <td>debt_consolidation</td>\n",
       "      <td>...</td>\n",
       "      <td>17.08</td>\n",
       "      <td>0.0</td>\n",
       "      <td>685.0</td>\n",
       "      <td>0.0</td>\n",
       "      <td>7.0</td>\n",
       "      <td>0.0</td>\n",
       "      <td>9321.0</td>\n",
       "      <td>48.8</td>\n",
       "      <td>8.0</td>\n",
       "      <td>10.434116</td>\n",
       "    </tr>\n",
       "    <tr>\n",
       "      <th>3</th>\n",
       "      <td>10000.0</td>\n",
       "      <td>36 months</td>\n",
       "      <td>11.49</td>\n",
       "      <td>329.72</td>\n",
       "      <td>2</td>\n",
       "      <td>10+ years</td>\n",
       "      <td>MORTGAGE</td>\n",
       "      <td>49000.0</td>\n",
       "      <td>Source Verified</td>\n",
       "      <td>credit_card</td>\n",
       "      <td>...</td>\n",
       "      <td>13.92</td>\n",
       "      <td>1.0</td>\n",
       "      <td>680.0</td>\n",
       "      <td>1.0</td>\n",
       "      <td>9.0</td>\n",
       "      <td>0.0</td>\n",
       "      <td>5984.0</td>\n",
       "      <td>48.3</td>\n",
       "      <td>34.0</td>\n",
       "      <td>10.799576</td>\n",
       "    </tr>\n",
       "    <tr>\n",
       "      <th>4</th>\n",
       "      <td>3500.0</td>\n",
       "      <td>36 months</td>\n",
       "      <td>19.03</td>\n",
       "      <td>128.35</td>\n",
       "      <td>4</td>\n",
       "      <td>10+ years</td>\n",
       "      <td>MORTGAGE</td>\n",
       "      <td>40000.0</td>\n",
       "      <td>Source Verified</td>\n",
       "      <td>debt_consolidation</td>\n",
       "      <td>...</td>\n",
       "      <td>24.33</td>\n",
       "      <td>0.0</td>\n",
       "      <td>660.0</td>\n",
       "      <td>0.0</td>\n",
       "      <td>7.0</td>\n",
       "      <td>1.0</td>\n",
       "      <td>9254.0</td>\n",
       "      <td>54.1</td>\n",
       "      <td>16.0</td>\n",
       "      <td>10.596635</td>\n",
       "    </tr>\n",
       "  </tbody>\n",
       "</table>\n",
       "<p>5 rows × 21 columns</p>\n",
       "</div>"
      ],
      "text/plain": [
       "   loan_amnt        term  int_rate  installment  grade emp_length  \\\n",
       "0    14400.0   60 months     12.49       323.90      2    7 years   \n",
       "1     9600.0   36 months     13.99       328.06      3    6 years   \n",
       "2    11500.0   60 months     15.61       277.29      3  10+ years   \n",
       "3    10000.0   36 months     11.49       329.72      2  10+ years   \n",
       "4     3500.0   36 months     19.03       128.35      4  10+ years   \n",
       "\n",
       "  home_ownership  annual_inc verification_status             purpose  ...  \\\n",
       "0       MORTGAGE     40000.0        Not Verified  debt_consolidation  ...   \n",
       "1           RENT     60000.0            Verified  debt_consolidation  ...   \n",
       "2           RENT     34000.0     Source Verified  debt_consolidation  ...   \n",
       "3       MORTGAGE     49000.0     Source Verified         credit_card  ...   \n",
       "4       MORTGAGE     40000.0     Source Verified  debt_consolidation  ...   \n",
       "\n",
       "     dti  delinq_2yrs  fico_range_low  inq_last_6mths  open_acc  pub_rec  \\\n",
       "0  16.08          0.0           770.0             0.0      13.0      0.0   \n",
       "1  16.54          0.0           675.0             1.0      12.0      0.0   \n",
       "2  17.08          0.0           685.0             0.0       7.0      0.0   \n",
       "3  13.92          1.0           680.0             1.0       9.0      0.0   \n",
       "4  24.33          0.0           660.0             0.0       7.0      1.0   \n",
       "\n",
       "   revol_bal  revol_util  total_acc  annual_inc_log  \n",
       "0     7771.0        13.8       30.0       10.596635  \n",
       "1    10965.0        87.7       31.0       11.002100  \n",
       "2     9321.0        48.8        8.0       10.434116  \n",
       "3     5984.0        48.3       34.0       10.799576  \n",
       "4     9254.0        54.1       16.0       10.596635  \n",
       "\n",
       "[5 rows x 21 columns]"
      ]
     },
     "execution_count": 18,
     "metadata": {},
     "output_type": "execute_result"
    }
   ],
   "source": [
    "X['grade']=X['grade'].map({'A': 1, 'B': 2, 'C': 3, 'D': 4, 'E': 5, 'F': 6, 'G': 7})\n",
    "X['annual_inc_log'] = X['annual_inc'].apply(np.log)\n",
    "X.head()"
   ]
  },
  {
   "cell_type": "code",
   "execution_count": 19,
   "metadata": {},
   "outputs": [],
   "source": [
    "import joblib\n",
    "pipe_lss = joblib.load('../data/USA/LC/state_lss.pkl')"
   ]
  },
  {
   "cell_type": "code",
   "execution_count": 20,
   "metadata": {},
   "outputs": [
    {
     "data": {
      "text/html": [
       "<div>\n",
       "<style scoped>\n",
       "    .dataframe tbody tr th:only-of-type {\n",
       "        vertical-align: middle;\n",
       "    }\n",
       "\n",
       "    .dataframe tbody tr th {\n",
       "        vertical-align: top;\n",
       "    }\n",
       "\n",
       "    .dataframe thead th {\n",
       "        text-align: right;\n",
       "    }\n",
       "</style>\n",
       "<table border=\"1\" class=\"dataframe\">\n",
       "  <thead>\n",
       "    <tr style=\"text-align: right;\">\n",
       "      <th></th>\n",
       "      <th>N</th>\n",
       "      <th>State_Name</th>\n",
       "      <th>Code</th>\n",
       "      <th>GDP_PC</th>\n",
       "      <th>gini</th>\n",
       "      <th>cost_living</th>\n",
       "      <th>hdi</th>\n",
       "      <th>pbf</th>\n",
       "      <th>ccdebt</th>\n",
       "      <th>spi</th>\n",
       "      <th>unemp</th>\n",
       "      <th>state_var</th>\n",
       "    </tr>\n",
       "  </thead>\n",
       "  <tbody>\n",
       "    <tr>\n",
       "      <th>0</th>\n",
       "      <td>1</td>\n",
       "      <td>Alabama</td>\n",
       "      <td>AL</td>\n",
       "      <td>45219</td>\n",
       "      <td>0.4847</td>\n",
       "      <td>89.87</td>\n",
       "      <td>4.04</td>\n",
       "      <td>519</td>\n",
       "      <td>7105</td>\n",
       "      <td>33.60</td>\n",
       "      <td>3.9</td>\n",
       "      <td>0.069859</td>\n",
       "    </tr>\n",
       "    <tr>\n",
       "      <th>1</th>\n",
       "      <td>2</td>\n",
       "      <td>Alaska</td>\n",
       "      <td>AK</td>\n",
       "      <td>73205</td>\n",
       "      <td>0.4081</td>\n",
       "      <td>122.88</td>\n",
       "      <td>5.06</td>\n",
       "      <td>56</td>\n",
       "      <td>13048</td>\n",
       "      <td>43.77</td>\n",
       "      <td>6.5</td>\n",
       "      <td>-0.013420</td>\n",
       "    </tr>\n",
       "    <tr>\n",
       "      <th>2</th>\n",
       "      <td>3</td>\n",
       "      <td>Arizona</td>\n",
       "      <td>AZ</td>\n",
       "      <td>48055</td>\n",
       "      <td>0.4713</td>\n",
       "      <td>97.66</td>\n",
       "      <td>4.89</td>\n",
       "      <td>305</td>\n",
       "      <td>7100</td>\n",
       "      <td>45.43</td>\n",
       "      <td>4.7</td>\n",
       "      <td>-0.000735</td>\n",
       "    </tr>\n",
       "    <tr>\n",
       "      <th>3</th>\n",
       "      <td>4</td>\n",
       "      <td>Arkansas</td>\n",
       "      <td>AR</td>\n",
       "      <td>42454</td>\n",
       "      <td>0.4719</td>\n",
       "      <td>89.17</td>\n",
       "      <td>3.91</td>\n",
       "      <td>374</td>\n",
       "      <td>6747</td>\n",
       "      <td>32.10</td>\n",
       "      <td>3.6</td>\n",
       "      <td>0.081117</td>\n",
       "    </tr>\n",
       "  </tbody>\n",
       "</table>\n",
       "</div>"
      ],
      "text/plain": [
       "   N State_Name Code  GDP_PC    gini  cost_living   hdi  pbf  ccdebt    spi  \\\n",
       "0  1    Alabama   AL   45219  0.4847        89.87  4.04  519    7105  33.60   \n",
       "1  2     Alaska   AK   73205  0.4081       122.88  5.06   56   13048  43.77   \n",
       "2  3    Arizona   AZ   48055  0.4713        97.66  4.89  305    7100  45.43   \n",
       "3  4   Arkansas   AR   42454  0.4719        89.17  3.91  374    6747  32.10   \n",
       "\n",
       "   unemp  state_var  \n",
       "0    3.9   0.069859  \n",
       "1    6.5  -0.013420  \n",
       "2    4.7  -0.000735  \n",
       "3    3.6   0.081117  "
      ]
     },
     "execution_count": 20,
     "metadata": {},
     "output_type": "execute_result"
    }
   ],
   "source": [
    "df_state = pd.read_csv('../data/USA/State/state_data.csv')\n",
    "df_state['state_var'] = pipe_lss.predict(df_state)\n",
    "df_state.head(4)"
   ]
  },
  {
   "cell_type": "code",
   "execution_count": 21,
   "metadata": {},
   "outputs": [],
   "source": [
    "state_dict = {}\n",
    "for s,x in zip(df_state.Code,df_state.state_var):\n",
    "    state_dict[s] = x "
   ]
  },
  {
   "cell_type": "code",
   "execution_count": 22,
   "metadata": {},
   "outputs": [],
   "source": [
    "state_mcoefs = []\n",
    "for s in X.addr_state:\n",
    "    state_mcoefs.append(state_dict[s])\n",
    "X['m_coefs'] = state_mcoefs "
   ]
  },
  {
   "cell_type": "code",
   "execution_count": null,
   "metadata": {},
   "outputs": [],
   "source": []
  },
  {
   "cell_type": "code",
   "execution_count": 23,
   "metadata": {},
   "outputs": [],
   "source": [
    "used_vars = ['loan_amnt', 'term', 'int_rate',\n",
    "       'installment', 'grade', 'emp_length',\n",
    "       'home_ownership', 'annual_inc_log', 'verification_status',\n",
    "       'purpose', 'm_coefs', 'dti', 'delinq_2yrs',\n",
    "       'fico_range_low', 'inq_last_6mths', 'open_acc',\n",
    "       'pub_rec', 'revol_bal', 'revol_util', 'total_acc']"
   ]
  },
  {
   "cell_type": "code",
   "execution_count": 24,
   "metadata": {},
   "outputs": [],
   "source": [
    "from sklearn.preprocessing import MinMaxScaler\n",
    "from sklearn.linear_model import LogisticRegression\n",
    "from sklearn.pipeline import Pipeline\n",
    "from transformers import ColumnSelectTransformer, EncoderTransformer\n",
    "\n",
    "cst = ColumnSelectTransformer(used_vars)\n",
    "sce = EncoderTransformer()\n",
    "sc = MinMaxScaler()\n",
    "clf = LogisticRegression(penalty='l1', C=0.01, random_state=0, solver='liblinear')\n",
    "\n",
    "pipe_lr = Pipeline([('colsel', cst), ('encoder', sce), ('scaler', sc), ('clf', clf)])"
   ]
  },
  {
   "cell_type": "code",
   "execution_count": 25,
   "metadata": {},
   "outputs": [
    {
     "data": {
      "text/plain": [
       "Pipeline(memory=None,\n",
       "     steps=[('colsel', ColumnSelectTransformer(col_names=['loan_amnt', 'term', 'int_rate', 'installment', 'grade', 'emp_length', 'home_ownership', 'annual_inc_log', 'verification_status', 'purpose', 'm_coefs', 'dti', 'delinq_2yrs', 'fico_range_low', 'inq_last_6mths', 'open_acc', 'pub_rec', 'revol_bal', '...nalty='l1', random_state=0, solver='liblinear',\n",
       "          tol=0.0001, verbose=0, warm_start=False))])"
      ]
     },
     "execution_count": 25,
     "metadata": {},
     "output_type": "execute_result"
    }
   ],
   "source": [
    "pipe_lr.fit(X, y)"
   ]
  },
  {
   "cell_type": "code",
   "execution_count": null,
   "metadata": {},
   "outputs": [],
   "source": []
  },
  {
   "cell_type": "code",
   "execution_count": null,
   "metadata": {},
   "outputs": [],
   "source": []
  },
  {
   "cell_type": "code",
   "execution_count": 26,
   "metadata": {},
   "outputs": [],
   "source": [
    "X_t = pd.read_csv('../data/USA/LC/X_test.csv')\n",
    "y_t = pd.read_csv('../data/USA/LC/y_test.csv')\n",
    "y_t = y_t.loan_status_bin  #as series"
   ]
  },
  {
   "cell_type": "code",
   "execution_count": 27,
   "metadata": {},
   "outputs": [],
   "source": [
    "X_t['grade']=X_t['grade'].map({'A': 1, 'B': 2, 'C': 3, 'D': 4, 'E': 5, 'F': 6, 'G': 7})\n",
    "X_t['annual_inc_log'] = X_t['annual_inc'].apply(np.log)"
   ]
  },
  {
   "cell_type": "code",
   "execution_count": 28,
   "metadata": {},
   "outputs": [],
   "source": [
    "tstate_mcoefs = []\n",
    "for s in X_t.addr_state:\n",
    "    tstate_mcoefs.append(state_dict[s])\n",
    "X_t['m_coefs'] = tstate_mcoefs "
   ]
  },
  {
   "cell_type": "code",
   "execution_count": 29,
   "metadata": {},
   "outputs": [],
   "source": [
    "test_probas = pipe_lr.predict_proba(X_t)[:,1]"
   ]
  },
  {
   "cell_type": "code",
   "execution_count": 30,
   "metadata": {},
   "outputs": [
    {
     "name": "stdout",
     "output_type": "stream",
     "text": [
      "ROC-AUC-score:  0.7109288785332558\n"
     ]
    },
    {
     "data": {
      "image/png": "[encoded data removed]",
      "text/plain": [
       "<Figure size 432x288 with 1 Axes>"
      ]
     },
     "metadata": {
      "needs_background": "light"
     },
     "output_type": "display_data"
    }
   ],
   "source": [
    "from sklearn.metrics import roc_auc_score\n",
    "from sklearn.metrics import roc_curve\n",
    "import matplotlib.pyplot as plt\n",
    "\n",
    "fpr, tpr, tresholds = roc_curve(y_t, test_probas)\n",
    "plt.plot(fpr, tpr)\n",
    "plt.title('ROC')\n",
    "plt.xlabel('FPR')\n",
    "plt.ylabel('TPR')\n",
    "\n",
    "print('ROC-AUC-score: ', roc_auc_score(y_t, test_probas))"
   ]
  },
  {
   "cell_type": "code",
   "execution_count": null,
   "metadata": {},
   "outputs": [],
   "source": []
  },
  {
   "cell_type": "markdown",
   "metadata": {},
   "source": [
    "0.7129 original <br>\n",
    "0.7109 original wout state data + state econ y social model <br>\n",
    "0.7107 original wout state data <br>\n",
    "0.7084 wout american <br>\n",
    "0.7062 wout american and state data <br>"
   ]
  },
  {
   "cell_type": "code",
   "execution_count": null,
   "metadata": {},
   "outputs": [],
   "source": []
  },
  {
   "cell_type": "code",
   "execution_count": null,
   "metadata": {},
   "outputs": [],
   "source": []
  }
 ],
 "metadata": {
  "kernelspec": {
   "display_name": "Python 3",
   "language": "python",
   "name": "python3"
  },
  "language_info": {
   "codemirror_mode": {
    "name": "ipython",
    "version": 3
   },
   "file_extension": ".py",
   "mimetype": "text/x-python",
   "name": "python",
   "nbconvert_exporter": "python",
   "pygments_lexer": "ipython3",
   "version": "3.6.6"
  }
 },
 "nbformat": 4,
 "nbformat_minor": 2
}
